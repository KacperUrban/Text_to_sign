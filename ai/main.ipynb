{
 "cells": [
  {
   "cell_type": "markdown",
   "source": [
    "### Load data from .odt format"
   ],
   "metadata": {
    "collapsed": false
   },
   "id": "e90ad30c09b9dc77"
  },
  {
   "cell_type": "code",
   "execution_count": 1,
   "id": "initial_id",
   "metadata": {
    "collapsed": true,
    "ExecuteTime": {
     "end_time": "2023-10-07T13:02:00.545340260Z",
     "start_time": "2023-10-07T13:01:59.424066310Z"
    }
   },
   "outputs": [],
   "source": [
    "import pandas as pd\n",
    "from odf.opendocument import load\n",
    "from odf import text, teletype\n",
    "\n",
    "def load_data(filepath):\n",
    "    raw_data = []\n",
    "    textdoc = load(filepath)\n",
    "    allparas = textdoc.getElementsByType(text.P)\n",
    "    for line in allparas:\n",
    "        raw_data.append(teletype.extractText(line))\n",
    "    return raw_data"
   ]
  },
  {
   "cell_type": "code",
   "execution_count": 2,
   "outputs": [
    {
     "data": {
      "text/plain": "['Wypowiedzi OG',\n 'Przywitanie',\n '- Dzień dobry.',\n '[',\n 'dzień dobry',\n 'witać',\n ']',\n 'Wyjaśnienie powodu wizyty',\n '- Chcę złożyć wniosek o wydanie dowodu osobistego.',\n '[',\n 'ja wniosek dowód1 mieć',\n 'ja wniosek dowód2 mieć',\n ']',\n '- Czy mogę odebrać dowód?',\n '[',\n 'czy już nowy dowód1',\n 'czy już nowy dowód2',\n 'być mój nowy dowód1',\n 'być mój nowy dowód2',\n ']',\n '- Chcę zgłosić utratę dowodu osobistego.',\n '[',\n 'ja dowód1 zgubić',\n 'ja dowód2 zgubić',\n ']',\n '- Chcę złożyć wniosek o wydanie dowodu osobistego dla mojego dziecka.',\n '[',\n 'ja dowód1 moje dziecko chcieć',\n 'ja dowód2 moje dziecko chcieć',\n ']',\n '- Chcę złożyć wniosek o wydanie dowodu osobistego dla mojej żony.',\n '[',\n 'ja dowód1 moja żona chcieć',\n 'ja dowód2 moja żona chcieć',\n ']',\n 'Obsługa',\n '- Zmieniłem adres.',\n '[',\n 'dom przenieść się',\n 'mieszkanie zmiana1',\n 'mieszkanie zmiana2',\n 'adres1 zmiana1',\n 'adres2 zmiana1',\n 'adres1 zmiana2',\n 'adres2 zmiana2',\n ']',\n '- Upłynął termin ważności dowodu.',\n '[',\n 'dowód1 nieważny',\n 'dowód2 nieważny',\n 'dowód1 koniec ważny',\n 'dowód2 koniec ważny',\n ']',\n '- Z powodu zmiany wizerunku twarzy.',\n '[',\n 'z powód zmiana wygląd',\n ']',\n '- Zawarłem(am) związek małżeński.',\n '[',\n 'ja małżeństwo',\n ']',\n '- Zmieniłem(am) nazwisko.',\n '[',\n 'ja zmiana1 nazwisko',\n 'ja zmiana2 nazwisko',\n ']',\n '- Decyzją zmieniłam nazwisko.',\n '[',\n ']',\n '- Powróciłam do nazwiska rodowego.',\n '[',\n 'ja przyjmować nazwisko panna',\n 'ja przyjmować nazwisko kawaler',\n ']',\n '- Nastąpiła zmiana imienia ojca.',\n '[',\n 'ojcieć imię zmiana1',\n 'ojcieć imię zmiana2',\n ']',\n '- Nastąpiła zmiana imienia matki.',\n '[',\n 'matka imię zmiana1',\n 'matka imię zmiana2',\n ']',\n '- Tak.',\n '[',\n 'tak',\n ']',\n '- Dlaczego?',\n '[',\n 'dlaczego',\n ']',\n '- Nie.',\n '[',\n 'nie',\n ']',\n '- Dziękuję.',\n '[',\n 'dziękować1',\n 'dziękować2',\n ']',\n '- Nie umiem wypełnić wniosku.',\n '[',\n 'ja nie wiedzieć wypełnić',\n ']',\n '- Proszę.',\n '[',\n 'prosić',\n ']',\n '- Nie mam dowodu.',\n '[',\n 'niemieć dowód1',\n 'niemieć dowód2',\n ']',\n '- Nie zabrałem ze sobą dowodu.',\n '[',\n 'niemieć dowód1',\n 'niemieć dowód2',\n ']',\n '- To mój pierwszy dowód.',\n '[',\n 'ja pierwszy raz dowód1 robić',\n 'ja pierwszy raz dowód2 robić',\n ']',\n '- Nie mam zdjęcia.',\n '[',\n 'niemieć zdjęcie',\n 'zdjęcie niemieć',\n ']',\n '- Czy można zgłosić się wcześniej?',\n '[',\n 'dowód1 odbiór wcześniej można',\n 'dowód2 odbiór wcześniej można',\n ']',\n '- Czy można przyśpieszyć produkcję dowodu?',\n '[',\n 'dowód1 wcześniej gotowy można',\n 'dowód2 wcześniej gotowy można',\n ']',\n '- Ile płacę za wyrobienie dowodu?',\n '[',\n 'nowy dowód1 płacić ile',\n 'nowy dowód2 płacić ile',\n ']',\n '- Nie umiem wypełnić formularza.',\n '[',\n 'formularz wypełnić nieumieć',\n ']',\n '- Mam uszkodzony dowód.',\n '[',\n 'mój dowód1 pękąć',\n 'mój dowód2 pękąć',\n 'mój dowód1 psuć',\n 'mój dowód2 psuć',\n 'mój dowód1 zniszczyć',\n 'mój dowód2 zniszczyć',\n ']',\n 'Pożegnanie',\n '- Do widzenia.',\n '[',\n 'do widzenia',\n ']',\n 'Dodatkowe',\n '- Chcę złożyć wniosek o wydanie dowodu osobistego.',\n '[',\n 'chcieć nowy dowód1',\n 'chcieć nowy dowód2',\n 'nowy dowód1 chcieć',\n 'nowy dowód2 chcieć',\n ']',\n '- Czy mogę odebrać dowód?',\n '[',\n 'dowód1 gotowy',\n 'dowód2 gotowy',\n ']',\n '- Nie umiem wypełnić wniosku.',\n '[',\n 'papier wniosek wypełnić jak',\n ']',\n '- Nie umiem wypełnić wniosku.',\n '[',\n 'ja nie rozumieć co to być',\n 'ja nie rozumieć co pisac',\n ']',\n '- Nie umiem wypełnić wniosku.',\n '[',\n 'nie rozumieć to',\n 'niewiedzieć to',\n 'nie rozumieć - pomysł',\n ']',\n '- Nie umiem wypełnić wniosku.',\n '[',\n 'co pisać mieć',\n 'jak pisać mieć',\n ']',\n '- Proszę mi pomóc.',\n '[',\n 'prosić pomagać ja',\n 'ja niewiedzieć prosić pomagać ja pusto',\n ']',\n '- Ile płacę za wyrobienie dowodu?',\n '[',\n 'pieniądze ile nowy dowód1',\n 'pieniądze ile nowy dowód2',\n 'ile koszt nowy dowód1',\n 'ile koszt nowy dowód2',\n ']',\n '- Ile płacę za wyrobienie dowodu?',\n '[',\n 'ile płacić dowód1',\n 'ile płacić dowód2',\n ']',\n '- Nie jestem zameldowany w Rzeszowie, czy mogę tutaj złożyć wniosek na dowód osobisty.',\n '[',\n 'Ja Rzeszów zameldowanie niemieć wniosek dowód1 dać można',\n 'Ja Rzeszów zameldowanie niemieć wniosek dowód2 dać można',\n 'Ja Rzeszów zameldowanie niemieć wniosek dowód1 złożyć można',\n 'Ja Rzeszów zameldowanie niemieć wniosek dowód2 złożyć można',\n ']',\n '- Proszę powtórzyć.',\n '[',\n 'powtarzać prosić',\n 'prosić powtarzać',\n ']',\n '- Chcę złożyć wniosek o wydanie dowodu osobistego.',\n '[',\n 'tu zmiana dowód1',\n 'tu zmiana dowód2',\n ']',\n '- Poproszę o wniosek.',\n '[',\n 'prosić wniosek',\n 'prosić wniosek dowód1',\n 'prosić wniosek dowód2',\n 'dowód1 wniosek prosić',\n 'dowód2 wniosek prosić',\n ']',\n '- Chcę złożyć wniosek o wydanie dowodu osobistego.',\n '[',\n 'papier wniosek mieć',\n ']',\n '- Chcę złożyć wniosek o wydanie dowodu osobistego.',\n '[',\n 'przyjść papier wniosek mieć',\n ']',\n '- Czy moje zdjęcie jest dobre?',\n '[',\n 'zdjęcie dobre',\n ']',\n '- Ile zdjęć potrzeba?',\n '[',\n 'ile sztuk zdjęcie potrzeba',\n ']',\n '- Jakie zdjęcie jest potrzebne?',\n '[',\n 'jakie zdjęcie podać potrzeba',\n 'jakie zdjęcie pokazać potrzeba',\n ']',\n '- Jak długo trzeba czekać?',\n '[',\n 'jak długo czekać',\n 'ile dni czekać',\n 'kiedy gotowy dowód1',\n 'kiedy gotowy dowód2',\n ']',\n '- Czy muszę sam odebrać dowód?',\n '[',\n 'musieć ja odebrać dowód1',\n 'musieć ja odebrać dowód2',\n ']',\n '- Zgubiłem dowód.',\n '[',\n 'dowód1 zgubić',\n 'dowód2 zgubić',\n 'zgubić dowód1',\n 'zgubić dowód2',\n ']',\n '- Mam stary dowód.',\n '[',\n 'stary dowód1 mieć',\n 'stary dowód2 mieć',\n ']',\n '- Zmieniłem(am) nazwisko.',\n '[',\n 'nazwisko zmiana1',\n 'nazwisko zmiana2',\n 'przeniesc inne spać',\n 'już ślub',\n ']',\n '- Mam 18 lat.',\n '[',\n 'już 18 lat',\n ']',\n '- Mam paszport.',\n '[',\n 'paszport mieć',\n ']']"
     },
     "execution_count": 2,
     "metadata": {},
     "output_type": "execute_result"
    }
   ],
   "source": [
    "raw_data = load_data('dataset/data.odt')\n",
    "while '' in raw_data:\n",
    "    raw_data.remove('')\n",
    "raw_data"
   ],
   "metadata": {
    "collapsed": false,
    "ExecuteTime": {
     "end_time": "2023-10-07T13:02:04.634727542Z",
     "start_time": "2023-10-07T13:02:04.570745629Z"
    }
   },
   "id": "4d17a438678e549"
  },
  {
   "cell_type": "code",
   "execution_count": 18,
   "outputs": [],
   "source": [
    "def split_data_from_list(raw_data):\n",
    "    pl_sentence = []\n",
    "    sentence = []\n",
    "    i=0\n",
    "    while i < len(raw_data):\n",
    "        if raw_data[i+1] == '[':\n",
    "            value = raw_data[i]\n",
    "            i += 2\n",
    "            while i < len(raw_data):\n",
    "                if raw_data[i] == ']':\n",
    "                    break\n",
    "                pl_sentence.append(value[1:])\n",
    "                sentence.append(raw_data[i])\n",
    "                i += 1\n",
    "        i += 1\n",
    "    return pl_sentence, sentence"
   ],
   "metadata": {
    "collapsed": false,
    "ExecuteTime": {
     "end_time": "2023-10-07T13:08:55.089169820Z",
     "start_time": "2023-10-07T13:08:55.081161429Z"
    }
   },
   "id": "b7362121004c1d7f"
  },
  {
   "cell_type": "code",
   "execution_count": 19,
   "outputs": [],
   "source": [
    "s1, s2 = split_data_from_list(raw_data)"
   ],
   "metadata": {
    "collapsed": false,
    "ExecuteTime": {
     "end_time": "2023-10-07T13:08:55.807786645Z",
     "start_time": "2023-10-07T13:08:55.798995271Z"
    }
   },
   "id": "405202227019684b"
  },
  {
   "cell_type": "code",
   "execution_count": 23,
   "outputs": [
    {
     "name": "stdout",
     "output_type": "stream",
     "text": [
      "0                                         Dzień dobry.\n",
      "1                                         Dzień dobry.\n",
      "2     Chcę złożyć wniosek o wydanie dowodu osobistego.\n",
      "3     Chcę złożyć wniosek o wydanie dowodu osobistego.\n",
      "4                              Czy mogę odebrać dowód?\n",
      "5                              Czy mogę odebrać dowód?\n",
      "6                              Czy mogę odebrać dowód?\n",
      "7                              Czy mogę odebrać dowód?\n",
      "8               Chcę zgłosić utratę dowodu osobistego.\n",
      "9               Chcę zgłosić utratę dowodu osobistego.\n",
      "Name: pl, dtype: object\n"
     ]
    }
   ],
   "source": [
    "data = pd.DataFrame({'pl':s1, 'mig':s2})\n",
    "print(data[0:10])"
   ],
   "metadata": {
    "collapsed": false,
    "ExecuteTime": {
     "end_time": "2023-10-07T13:14:51.052224153Z",
     "start_time": "2023-10-07T13:14:51.007032615Z"
    }
   },
   "id": "cb405ef16a871d7e"
  },
  {
   "cell_type": "markdown",
   "source": [
    "### Creating a dataset"
   ],
   "metadata": {
    "collapsed": false
   },
   "id": "430617ae1a0d0cb0"
  },
  {
   "cell_type": "code",
   "execution_count": 25,
   "outputs": [
    {
     "data": {
      "text/plain": "Dataset({\n    features: ['translation'],\n    num_rows: 123\n})"
     },
     "execution_count": 25,
     "metadata": {},
     "output_type": "execute_result"
    }
   ],
   "source": [
    "from datasets import Dataset, DatasetDict\n",
    "\n",
    "raw_dataset_list = []\n",
    "for i in range(0, len(data)):\n",
    "    raw_dataset_list.append({'translation' : {'pl' : data['pl'][i], 'mig' : data['mig'][i]}})\n",
    "    \n",
    "raw_dataset = Dataset.from_list(raw_dataset_list)\n",
    "raw_dataset"
   ],
   "metadata": {
    "collapsed": false,
    "ExecuteTime": {
     "end_time": "2023-10-07T13:16:14.592608209Z",
     "start_time": "2023-10-07T13:16:14.576054609Z"
    }
   },
   "id": "ab17742cb745d864"
  },
  {
   "cell_type": "markdown",
   "source": [
    "### Split data into train, validation and test dataset"
   ],
   "metadata": {
    "collapsed": false
   },
   "id": "9c2762491b9cd97a"
  },
  {
   "cell_type": "code",
   "execution_count": 26,
   "outputs": [
    {
     "data": {
      "text/plain": "DatasetDict({\n    train: Dataset({\n        features: ['translation'],\n        num_rows: 86\n    })\n    test: Dataset({\n        features: ['translation'],\n        num_rows: 19\n    })\n    validation: Dataset({\n        features: ['translation'],\n        num_rows: 18\n    })\n})"
     },
     "execution_count": 26,
     "metadata": {},
     "output_type": "execute_result"
    }
   ],
   "source": [
    "train_testvalid = raw_dataset.train_test_split(test_size=0.3)\n",
    "\n",
    "test_valid = train_testvalid['test'].train_test_split(test_size=0.5)\n",
    "\n",
    "train_test_valid_dataset = DatasetDict({\n",
    "    'train': train_testvalid['train'],\n",
    "    'test': test_valid['test'],\n",
    "    'validation': test_valid['train']})\n",
    "train_test_valid_dataset"
   ],
   "metadata": {
    "collapsed": false,
    "ExecuteTime": {
     "end_time": "2023-10-07T13:19:35.071383121Z",
     "start_time": "2023-10-07T13:19:35.001410142Z"
    }
   },
   "id": "5726fd5d5384354"
  },
  {
   "cell_type": "code",
   "execution_count": null,
   "outputs": [],
   "source": [],
   "metadata": {
    "collapsed": false
   },
   "id": "3e06fe58b11c1d8c"
  }
 ],
 "metadata": {
  "kernelspec": {
   "display_name": "Python 3",
   "language": "python",
   "name": "python3"
  },
  "language_info": {
   "codemirror_mode": {
    "name": "ipython",
    "version": 2
   },
   "file_extension": ".py",
   "mimetype": "text/x-python",
   "name": "python",
   "nbconvert_exporter": "python",
   "pygments_lexer": "ipython2",
   "version": "2.7.6"
  }
 },
 "nbformat": 4,
 "nbformat_minor": 5
}
