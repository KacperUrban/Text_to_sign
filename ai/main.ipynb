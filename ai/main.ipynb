{
 "cells": [
  {
   "cell_type": "code",
   "execution_count": 3,
   "metadata": {
    "collapsed": true,
    "ExecuteTime": {
     "start_time": "2023-04-04T15:11:15.769015Z",
     "end_time": "2023-04-04T15:11:15.774206Z"
    }
   },
   "outputs": [],
   "source": [
    "import tensorflow as tf\n",
    "from tensorflow import keras"
   ]
  },
  {
   "cell_type": "markdown",
   "source": [
    "### Load pretrained model"
   ],
   "metadata": {
    "collapsed": false
   }
  },
  {
   "cell_type": "code",
   "execution_count": 7,
   "outputs": [
    {
     "name": "stderr",
     "output_type": "stream",
     "text": [
      "Downloading (…)okenizer_config.json: 100%|██████████| 42.0/42.0 [00:00<00:00, 9.85kB/s]\n",
      "Downloading (…)lve/main/config.json: 100%|██████████| 1.38k/1.38k [00:00<00:00, 300kB/s]\n",
      "Downloading (…)olve/main/source.spm: 100%|██████████| 835k/835k [00:00<00:00, 1.40MB/s]\n",
      "Downloading (…)olve/main/target.spm: 100%|██████████| 785k/785k [00:01<00:00, 635kB/s]\n",
      "Downloading (…)olve/main/vocab.json: 100%|██████████| 1.52M/1.52M [00:00<00:00, 2.07MB/s]\n",
      "/opt/conda/lib/python3.10/site-packages/transformers/models/marian/tokenization_marian.py:194: UserWarning: Recommended: pip install sacremoses.\n",
      "  warnings.warn(\"Recommended: pip install sacremoses.\")\n",
      "Downloading tf_model.h5: 100%|██████████| 309M/309M [00:34<00:00, 9.00MB/s] \n",
      "2023-04-04 13:21:35.343838: W tensorflow/tsl/framework/cpu_allocator_impl.cc:83] Allocation of 129904640 exceeds 10% of free system memory.\n",
      "2023-04-04 13:21:35.556237: W tensorflow/tsl/framework/cpu_allocator_impl.cc:83] Allocation of 129904640 exceeds 10% of free system memory.\n",
      "2023-04-04 13:21:35.588772: W tensorflow/tsl/framework/cpu_allocator_impl.cc:83] Allocation of 129904640 exceeds 10% of free system memory.\n",
      "2023-04-04 13:21:37.406034: W tensorflow/tsl/framework/cpu_allocator_impl.cc:83] Allocation of 129904640 exceeds 10% of free system memory.\n",
      "2023-04-04 13:21:37.930380: W tensorflow/tsl/framework/cpu_allocator_impl.cc:83] Allocation of 129904640 exceeds 10% of free system memory.\n",
      "All model checkpoint layers were used when initializing TFMarianMTModel.\n",
      "\n",
      "All the layers of TFMarianMTModel were initialized from the model checkpoint at Helsinki-NLP/opus-mt-pl-en.\n",
      "If your task is similar to the task the model of the checkpoint was trained on, you can already use TFMarianMTModel for predictions without further training.\n",
      "Downloading (…)neration_config.json: 100%|██████████| 293/293 [00:00<00:00, 245kB/s]\n"
     ]
    }
   ],
   "source": [
    "from transformers import AutoTokenizer, TFAutoModelForSeq2SeqLM\n",
    "\n",
    "tokenizer = AutoTokenizer.from_pretrained(\"Helsinki-NLP/opus-mt-pl-en\")\n",
    "model = TFAutoModelForSeq2SeqLM.from_pretrained(\"Helsinki-NLP/opus-mt-pl-en\")"
   ],
   "metadata": {
    "collapsed": false,
    "ExecuteTime": {
     "start_time": "2023-04-04T15:20:39.024541Z",
     "end_time": "2023-04-04T15:21:39.966259Z"
    }
   }
  },
  {
   "cell_type": "code",
   "execution_count": 17,
   "outputs": [
    {
     "name": "stdout",
     "output_type": "stream",
     "text": [
      "Model: \"tf_marian_mt_model\"\n",
      "_________________________________________________________________\n",
      " Layer (type)                Output Shape              Param #   \n",
      "=================================================================\n",
      " model (TFMarianMainLayer)   multiple                  77138944  \n",
      "                                                                 \n",
      " final_logits_bias (BiasLaye  multiple                 63430     \n",
      " r)                                                              \n",
      "                                                                 \n",
      "=================================================================\n",
      "Total params: 77,202,374\n",
      "Trainable params: 77,138,944\n",
      "Non-trainable params: 63,430\n",
      "_________________________________________________________________\n"
     ]
    }
   ],
   "source": [
    "model.summary()"
   ],
   "metadata": {
    "collapsed": false,
    "ExecuteTime": {
     "start_time": "2023-04-04T16:04:06.800668Z",
     "end_time": "2023-04-04T16:04:06.874058Z"
    }
   }
  }
 ],
 "metadata": {
  "kernelspec": {
   "display_name": "Python 3",
   "language": "python",
   "name": "python3"
  },
  "language_info": {
   "codemirror_mode": {
    "name": "ipython",
    "version": 2
   },
   "file_extension": ".py",
   "mimetype": "text/x-python",
   "name": "python",
   "nbconvert_exporter": "python",
   "pygments_lexer": "ipython2",
   "version": "2.7.6"
  }
 },
 "nbformat": 4,
 "nbformat_minor": 0
}
