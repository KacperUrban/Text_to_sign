{
 "cells": [
  {
   "cell_type": "markdown",
   "source": [
    "### Import necessary libraries"
   ],
   "metadata": {
    "collapsed": false
   },
   "id": "e90ad30c09b9dc77"
  },
  {
   "cell_type": "code",
   "execution_count": 132,
   "outputs": [],
   "source": [
    "import pandas as pd\n",
    "from odf.opendocument import load\n",
    "from odf import text, teletype\n",
    "import os\n",
    "os.environ['TF_CPP_MIN_LOG_LEVEL'] = '3'\n",
    "from transformers import AutoTokenizer, TFAutoModelForSeq2SeqLM\n",
    "from datasets import Dataset, DatasetDict\n",
    "from transformers import DataCollatorForSeq2Seq\n",
    "from tensorflow import keras\n",
    "import neptune\n",
    "from neptune.integrations.tensorflow_keras import NeptuneCallback\n",
    "from transformers import pipeline\n",
    "from nltk.translate.bleu_score import corpus_bleu\n",
    "import numpy as np"
   ],
   "metadata": {
    "collapsed": false,
    "ExecuteTime": {
     "end_time": "2023-11-03T11:41:32.612246071Z",
     "start_time": "2023-11-03T11:41:32.605117160Z"
    }
   },
   "id": "46b5512e5c528ccf"
  },
  {
   "cell_type": "markdown",
   "source": [
    "### Load data from .odt format"
   ],
   "metadata": {
    "collapsed": false
   },
   "id": "cd35bdf3cf4e919"
  },
  {
   "cell_type": "code",
   "execution_count": 133,
   "id": "initial_id",
   "metadata": {
    "collapsed": true,
    "ExecuteTime": {
     "end_time": "2023-11-03T11:41:33.362068102Z",
     "start_time": "2023-11-03T11:41:33.357011010Z"
    }
   },
   "outputs": [],
   "source": [
    "def load_data(filepath):\n",
    "    raw_data = []\n",
    "    text_doc = load(filepath)\n",
    "    all_params = text_doc.getElementsByType(text.P)\n",
    "    for line in all_params:\n",
    "        raw_data.append(teletype.extractText(line))\n",
    "    return raw_data"
   ]
  },
  {
   "cell_type": "code",
   "execution_count": 134,
   "outputs": [
    {
     "data": {
      "text/plain": "['Wypowiedzi OG',\n 'Przywitanie',\n '- Dzień dobry.',\n '[',\n 'dzień dobry',\n 'witać',\n ']',\n 'Wyjaśnienie powodu wizyty',\n '- Chcę złożyć wniosek o wydanie dowodu osobistego.',\n '[',\n 'ja wniosek dowód1 mieć',\n 'ja wniosek dowód2 mieć',\n ']',\n '- Czy mogę odebrać dowód?',\n '[',\n 'czy już nowy dowód1',\n 'czy już nowy dowód2',\n 'być mój nowy dowód1',\n 'być mój nowy dowód2',\n ']',\n '- Chcę zgłosić utratę dowodu osobistego.',\n '[',\n 'ja dowód1 zgubić',\n 'ja dowód2 zgubić',\n ']',\n '- Chcę złożyć wniosek o wydanie dowodu osobistego dla mojego dziecka.',\n '[',\n 'ja dowód1 moje dziecko chcieć',\n 'ja dowód2 moje dziecko chcieć',\n ']',\n '- Chcę złożyć wniosek o wydanie dowodu osobistego dla mojej żony.',\n '[',\n 'ja dowód1 moja żona chcieć',\n 'ja dowód2 moja żona chcieć',\n ']',\n 'Obsługa',\n '- Zmieniłem adres.',\n '[',\n 'dom przenieść się',\n 'mieszkanie zmiana1',\n 'mieszkanie zmiana2',\n 'adres1 zmiana1',\n 'adres2 zmiana1',\n 'adres1 zmiana2',\n 'adres2 zmiana2',\n ']',\n '- Upłynął termin ważności dowodu.',\n '[',\n 'dowód1 nieważny',\n 'dowód2 nieważny',\n 'dowód1 koniec ważny',\n 'dowód2 koniec ważny',\n ']',\n '- Z powodu zmiany wizerunku twarzy.',\n '[',\n 'z powód zmiana wygląd',\n ']',\n '- Zawarłem(am) związek małżeński.',\n '[',\n 'ja małżeństwo',\n ']',\n '- Zmieniłem(am) nazwisko.',\n '[',\n 'ja zmiana1 nazwisko',\n 'ja zmiana2 nazwisko',\n ']',\n '- Powróciłam do nazwiska rodowego.',\n '[',\n 'ja przyjmować nazwisko panna',\n 'ja przyjmować nazwisko kawaler',\n ']',\n '- Nastąpiła zmiana imienia ojca.',\n '[',\n 'ojcieć imię zmiana1',\n 'ojcieć imię zmiana2',\n ']',\n '- Nastąpiła zmiana imienia matki.',\n '[',\n 'matka imię zmiana1',\n 'matka imię zmiana2',\n ']',\n '- Tak.',\n '[',\n 'tak',\n ']',\n '- Dlaczego?',\n '[',\n 'dlaczego',\n ']',\n '- Nie.',\n '[',\n 'nie',\n ']',\n '- Dziękuję.',\n '[',\n 'dziękować1',\n 'dziękować2',\n ']',\n '- Nie umiem wypełnić wniosku.',\n '[',\n 'ja nie wiedzieć wypełnić',\n ']',\n '- Proszę.',\n '[',\n 'prosić',\n ']',\n '- Nie mam dowodu.',\n '[',\n 'niemieć dowód1',\n 'niemieć dowód2',\n ']',\n '- Nie zabrałem ze sobą dowodu.',\n '[',\n 'niemieć dowód1',\n 'niemieć dowód2',\n ']',\n '- To mój pierwszy dowód.',\n '[',\n 'ja pierwszy raz dowód1 robić',\n 'ja pierwszy raz dowód2 robić',\n ']',\n '- Nie mam zdjęcia.',\n '[',\n 'niemieć zdjęcie',\n 'zdjęcie niemieć',\n ']',\n '- Czy można zgłosić się wcześniej?',\n '[',\n 'dowód1 odbiór wcześniej można',\n 'dowód2 odbiór wcześniej można',\n ']',\n '- Czy można przyśpieszyć produkcję dowodu?',\n '[',\n 'dowód1 wcześniej gotowy można',\n 'dowód2 wcześniej gotowy można',\n ']',\n '- Ile płacę za wyrobienie dowodu?',\n '[',\n 'nowy dowód1 płacić ile',\n 'nowy dowód2 płacić ile',\n ']',\n '- Nie umiem wypełnić formularza.',\n '[',\n 'formularz wypełnić nieumieć',\n ']',\n '- Mam uszkodzony dowód.',\n '[',\n 'mój dowód1 pękąć',\n 'mój dowód2 pękąć',\n 'mój dowód1 psuć',\n 'mój dowód2 psuć',\n 'mój dowód1 zniszczyć',\n 'mój dowód2 zniszczyć',\n ']',\n 'Pożegnanie',\n '- Do widzenia.',\n '[',\n 'do widzenia',\n ']',\n 'Dodatkowe',\n '- Chcę złożyć wniosek o wydanie dowodu osobistego.',\n '[',\n 'chcieć nowy dowód1',\n 'chcieć nowy dowód2',\n 'nowy dowód1 chcieć',\n 'nowy dowód2 chcieć',\n ']',\n '- Czy mogę odebrać dowód?',\n '[',\n 'dowód1 gotowy',\n 'dowód2 gotowy',\n ']',\n '- Nie umiem wypełnić wniosku.',\n '[',\n 'papier wniosek wypełnić jak',\n ']',\n '- Nie umiem wypełnić wniosku.',\n '[',\n 'ja nie rozumieć co to być',\n 'ja nie rozumieć co pisac',\n ']',\n '- Nie umiem wypełnić wniosku.',\n '[',\n 'nie rozumieć to',\n 'niewiedzieć to',\n 'nie rozumieć - pomysł',\n ']',\n '- Nie umiem wypełnić wniosku.',\n '[',\n 'co pisać mieć',\n 'jak pisać mieć',\n ']',\n '- Proszę mi pomóc.',\n '[',\n 'prosić pomagać ja',\n 'ja niewiedzieć prosić pomagać ja pusto',\n ']',\n '- Ile płacę za wyrobienie dowodu?',\n '[',\n 'pieniądze ile nowy dowód1',\n 'pieniądze ile nowy dowód2',\n 'ile koszt nowy dowód1',\n 'ile koszt nowy dowód2',\n ']',\n '- Ile płacę za wyrobienie dowodu?',\n '[',\n 'ile płacić dowód1',\n 'ile płacić dowód2',\n ']',\n '- Nie jestem zameldowany w Rzeszowie, czy mogę tutaj złożyć wniosek na dowód osobisty.',\n '[',\n 'Ja Rzeszów zameldowanie niemieć wniosek dowód1 dać można',\n 'Ja Rzeszów zameldowanie niemieć wniosek dowód2 dać można',\n 'Ja Rzeszów zameldowanie niemieć wniosek dowód1 złożyć można',\n 'Ja Rzeszów zameldowanie niemieć wniosek dowód2 złożyć można',\n ']',\n '- Proszę powtórzyć.',\n '[',\n 'powtarzać prosić',\n 'prosić powtarzać',\n ']',\n '- Chcę złożyć wniosek o wydanie dowodu osobistego.',\n '[',\n 'tu zmiana dowód1',\n 'tu zmiana dowód2',\n ']',\n '- Poproszę o wniosek.',\n '[',\n 'prosić wniosek',\n 'prosić wniosek dowód1',\n 'prosić wniosek dowód2',\n 'dowód1 wniosek prosić',\n 'dowód2 wniosek prosić',\n ']',\n '- Chcę złożyć wniosek o wydanie dowodu osobistego.',\n '[',\n 'papier wniosek mieć',\n ']',\n '- Chcę złożyć wniosek o wydanie dowodu osobistego.',\n '[',\n 'przyjść papier wniosek mieć',\n ']',\n '- Czy moje zdjęcie jest dobre?',\n '[',\n 'zdjęcie dobre',\n ']',\n '- Ile zdjęć potrzeba?',\n '[',\n 'ile sztuk zdjęcie potrzeba',\n ']',\n '- Jakie zdjęcie jest potrzebne?',\n '[',\n 'jakie zdjęcie podać potrzeba',\n 'jakie zdjęcie pokazać potrzeba',\n ']',\n '- Jak długo trzeba czekać?',\n '[',\n 'jak długo czekać',\n 'ile dni czekać',\n 'kiedy gotowy dowód1',\n 'kiedy gotowy dowód2',\n ']',\n '- Czy muszę sam odebrać dowód?',\n '[',\n 'musieć ja odebrać dowód1',\n 'musieć ja odebrać dowód2',\n ']',\n '- Zgubiłem dowód.',\n '[',\n 'dowód1 zgubić',\n 'dowód2 zgubić',\n 'zgubić dowód1',\n 'zgubić dowód2',\n ']',\n '- Mam stary dowód.',\n '[',\n 'stary dowód1 mieć',\n 'stary dowód2 mieć',\n ']',\n '- Zmieniłem(am) nazwisko.',\n '[',\n 'nazwisko zmiana1',\n 'nazwisko zmiana2',\n 'przeniesc inne spać',\n 'już ślub',\n ']',\n '- Mam 18 lat.',\n '[',\n 'już 18 lat',\n ']',\n '- Mam paszport.',\n '[',\n 'paszport mieć',\n ']']"
     },
     "execution_count": 134,
     "metadata": {},
     "output_type": "execute_result"
    }
   ],
   "source": [
    "raw_data = load_data('dataset/data.odt')\n",
    "while '' in raw_data:\n",
    "    raw_data.remove('')\n",
    "raw_data"
   ],
   "metadata": {
    "collapsed": false,
    "ExecuteTime": {
     "end_time": "2023-11-03T11:41:33.830114345Z",
     "start_time": "2023-11-03T11:41:33.798193510Z"
    }
   },
   "id": "4d17a438678e549"
  },
  {
   "cell_type": "markdown",
   "source": [
    " ### Load model and tokenizer"
   ],
   "metadata": {
    "collapsed": false
   },
   "id": "1a8e135c67c6e659"
  },
  {
   "cell_type": "code",
   "execution_count": 135,
   "outputs": [
    {
     "name": "stderr",
     "output_type": "stream",
     "text": [
      "All model checkpoint layers were used when initializing TFMarianMTModel.\n",
      "\n",
      "All the layers of TFMarianMTModel were initialized from the model checkpoint at ./model/model.h5.\n",
      "If your task is similar to the task the model of the checkpoint was trained on, you can already use TFMarianMTModel for predictions without further training.\n"
     ]
    }
   ],
   "source": [
    "tokenizer = AutoTokenizer.from_pretrained(\"./model/tokenizer\")\n",
    "model = TFAutoModelForSeq2SeqLM.from_pretrained(\"./model/model.h5\")"
   ],
   "metadata": {
    "collapsed": false,
    "ExecuteTime": {
     "end_time": "2023-11-03T11:41:38.736954897Z",
     "start_time": "2023-11-03T11:41:34.629828720Z"
    }
   },
   "id": "c1dc505bbfc6128f"
  },
  {
   "cell_type": "markdown",
   "source": [
    "### Translation before training"
   ],
   "metadata": {
    "collapsed": false
   },
   "id": "c054916b44f525e7"
  },
  {
   "cell_type": "code",
   "execution_count": 136,
   "outputs": [
    {
     "data": {
      "text/plain": "[{'translation_text': \"Hi, I'm Kacper.\"}]"
     },
     "execution_count": 136,
     "metadata": {},
     "output_type": "execute_result"
    }
   ],
   "source": [
    "translator = pipeline('translation', model=model, tokenizer=tokenizer)\n",
    "translator('Czesc jestem Kacper')"
   ],
   "metadata": {
    "collapsed": false,
    "ExecuteTime": {
     "end_time": "2023-11-03T11:41:44.017553402Z",
     "start_time": "2023-11-03T11:41:38.726670132Z"
    }
   },
   "id": "ff063fa408d15c1"
  },
  {
   "cell_type": "markdown",
   "source": [
    "### Adjust data form to our model"
   ],
   "metadata": {
    "collapsed": false
   },
   "id": "96f85ddbd2132bd3"
  },
  {
   "cell_type": "code",
   "execution_count": 137,
   "outputs": [],
   "source": [
    "def split_data_from_list(raw_data):\n",
    "    pl_sentence = []\n",
    "    sentence = []\n",
    "    i=0\n",
    "    while i < len(raw_data):\n",
    "        if raw_data[i+1] == '[':\n",
    "            value = raw_data[i]\n",
    "            i += 2\n",
    "            while i < len(raw_data):\n",
    "                if raw_data[i] == ']':\n",
    "                    break\n",
    "                pl_sentence.append(value[1:])\n",
    "                sentence.append(raw_data[i])\n",
    "                i += 1\n",
    "        i += 1\n",
    "    return pl_sentence, sentence"
   ],
   "metadata": {
    "collapsed": false,
    "ExecuteTime": {
     "end_time": "2023-11-03T11:41:44.017883234Z",
     "start_time": "2023-11-03T11:41:44.015606434Z"
    }
   },
   "id": "b7362121004c1d7f"
  },
  {
   "cell_type": "code",
   "execution_count": 138,
   "outputs": [],
   "source": [
    "s1, s2 = split_data_from_list(raw_data)"
   ],
   "metadata": {
    "collapsed": false,
    "ExecuteTime": {
     "end_time": "2023-11-03T11:41:44.029810655Z",
     "start_time": "2023-11-03T11:41:44.019817422Z"
    }
   },
   "id": "405202227019684b"
  },
  {
   "cell_type": "code",
   "execution_count": 139,
   "outputs": [
    {
     "name": "stdout",
     "output_type": "stream",
     "text": [
      "                                                  pl                     mig\n",
      "0                                       Dzień dobry.             dzień dobry\n",
      "1                                       Dzień dobry.                   witać\n",
      "2   Chcę złożyć wniosek o wydanie dowodu osobistego.  ja wniosek dowód1 mieć\n",
      "3   Chcę złożyć wniosek o wydanie dowodu osobistego.  ja wniosek dowód2 mieć\n",
      "4                            Czy mogę odebrać dowód?     czy już nowy dowód1\n",
      "5                            Czy mogę odebrać dowód?     czy już nowy dowód2\n",
      "6                            Czy mogę odebrać dowód?     być mój nowy dowód1\n",
      "7                            Czy mogę odebrać dowód?     być mój nowy dowód2\n",
      "8             Chcę zgłosić utratę dowodu osobistego.        ja dowód1 zgubić\n",
      "9             Chcę zgłosić utratę dowodu osobistego.        ja dowód2 zgubić\n"
     ]
    }
   ],
   "source": [
    "data = pd.DataFrame({'pl':s1, 'mig':s2})\n",
    "print(data[0:10])"
   ],
   "metadata": {
    "collapsed": false,
    "ExecuteTime": {
     "end_time": "2023-11-03T11:41:44.071407455Z",
     "start_time": "2023-11-03T11:41:44.026624928Z"
    }
   },
   "id": "cb405ef16a871d7e"
  },
  {
   "cell_type": "markdown",
   "source": [
    "### Creating a dataset"
   ],
   "metadata": {
    "collapsed": false
   },
   "id": "430617ae1a0d0cb0"
  },
  {
   "cell_type": "code",
   "execution_count": 140,
   "outputs": [
    {
     "data": {
      "text/plain": "Dataset({\n    features: ['translation'],\n    num_rows: 123\n})"
     },
     "execution_count": 140,
     "metadata": {},
     "output_type": "execute_result"
    }
   ],
   "source": [
    "raw_dataset_list = []\n",
    "for i in range(0, len(data)):\n",
    "    raw_dataset_list.append({'translation' : {'pl' : data['pl'][i], 'mig' : data['mig'][i]}})\n",
    "    \n",
    "raw_dataset = Dataset.from_list(raw_dataset_list)\n",
    "raw_dataset"
   ],
   "metadata": {
    "collapsed": false,
    "ExecuteTime": {
     "end_time": "2023-11-03T11:41:44.081188490Z",
     "start_time": "2023-11-03T11:41:44.037079943Z"
    }
   },
   "id": "ab17742cb745d864"
  },
  {
   "cell_type": "markdown",
   "source": [
    "### Split data into train and test dataset"
   ],
   "metadata": {
    "collapsed": false
   },
   "id": "9c2762491b9cd97a"
  },
  {
   "cell_type": "code",
   "execution_count": 141,
   "outputs": [],
   "source": [
    "train_test = raw_dataset.train_test_split(test_size=0.2, seed=42)\n",
    "\n",
    "train_test_dataset = DatasetDict({\n",
    "    'train': train_test['train'],\n",
    "    'test': train_test['test']})"
   ],
   "metadata": {
    "collapsed": false,
    "ExecuteTime": {
     "end_time": "2023-11-03T11:41:44.081413368Z",
     "start_time": "2023-11-03T11:41:44.043528530Z"
    }
   },
   "id": "5726fd5d5384354"
  },
  {
   "cell_type": "markdown",
   "source": [
    "### Create preprocessing function for our data"
   ],
   "metadata": {
    "collapsed": false
   },
   "id": "e31f533b975ff10e"
  },
  {
   "cell_type": "code",
   "execution_count": 142,
   "outputs": [],
   "source": [
    "max_input_length = 32\n",
    "max_target_length = 32\n",
    "source_lang = \"pl\"\n",
    "target_lang = \"mig\"\n",
    "\n",
    "\n",
    "def preprocess_function(examples):\n",
    "    inputs = [ex[source_lang] for ex in examples[\"translation\"]]\n",
    "    targets = [ex[target_lang] for ex in examples[\"translation\"]]\n",
    "    model_inputs = tokenizer(inputs, text_target=targets)\n",
    "    return model_inputs"
   ],
   "metadata": {
    "collapsed": false,
    "ExecuteTime": {
     "end_time": "2023-11-03T11:41:44.081949222Z",
     "start_time": "2023-11-03T11:41:44.053342038Z"
    }
   },
   "id": "af1985d33eb3aac5"
  },
  {
   "cell_type": "markdown",
   "source": [
    "### Map preprocess function on our dataset"
   ],
   "metadata": {
    "collapsed": false
   },
   "id": "7aadcacc30862e00"
  },
  {
   "cell_type": "code",
   "execution_count": 143,
   "outputs": [
    {
     "name": "stderr",
     "output_type": "stream",
     "text": [
      "                                                  \r"
     ]
    }
   ],
   "source": [
    "tokenized_dataset = train_test_dataset.map(preprocess_function, batched=True)"
   ],
   "metadata": {
    "collapsed": false,
    "ExecuteTime": {
     "end_time": "2023-11-03T11:41:45.211445432Z",
     "start_time": "2023-11-03T11:41:44.056770870Z"
    }
   },
   "id": "54bcc56f187af03b"
  },
  {
   "cell_type": "code",
   "execution_count": 144,
   "outputs": [
    {
     "name": "stderr",
     "output_type": "stream",
     "text": [
      "/opt/conda/lib/python3.11/site-packages/datasets/arrow_dataset.py:388: FutureWarning: The output of `to_tf_dataset` will change when a passing single element list for `labels` or `columns` in the next datasets version. To return a tuple structure rather than dict, pass a single string.\n",
      "Old behaviour: columns=['a'], labels=['labels'] -> (tf.Tensor, tf.Tensor)  \n",
      "             : columns='a', labels='labels' -> (tf.Tensor, tf.Tensor)  \n",
      "New behaviour: columns=['a'],labels=['labels'] -> ({'a': tf.Tensor}, {'labels': tf.Tensor})  \n",
      "             : columns='a', labels='labels' -> (tf.Tensor, tf.Tensor) \n",
      "  warnings.warn(\n"
     ]
    }
   ],
   "source": [
    "batch_size = 8\n",
    "\n",
    "data_collator = DataCollatorForSeq2Seq(tokenizer, model=model, return_tensors=\"tf\")\n",
    "train_dataset = model.prepare_tf_dataset(\n",
    "    tokenized_dataset[\"train\"],\n",
    "    batch_size=batch_size,\n",
    "    shuffle=True,\n",
    "    collate_fn=data_collator,\n",
    ")\n",
    "\n",
    "test_dataset = model.prepare_tf_dataset(\n",
    "    tokenized_dataset[\"test\"],\n",
    "    batch_size=batch_size,\n",
    "    shuffle=False,\n",
    "    collate_fn=data_collator,\n",
    ")"
   ],
   "metadata": {
    "collapsed": false,
    "ExecuteTime": {
     "end_time": "2023-11-03T11:41:45.470380161Z",
     "start_time": "2023-11-03T11:41:45.207135399Z"
    }
   },
   "id": "5830af51b506f96"
  },
  {
   "cell_type": "markdown",
   "source": [
    "### Model preparation"
   ],
   "metadata": {
    "collapsed": false
   },
   "id": "a217049eebb7099b"
  },
  {
   "cell_type": "code",
   "execution_count": 145,
   "outputs": [
    {
     "name": "stdout",
     "output_type": "stream",
     "text": [
      "Model: \"tf_marian_mt_model_2\"\n",
      "_________________________________________________________________\n",
      " Layer (type)                Output Shape              Param #   \n",
      "=================================================================\n",
      " model (TFMarianMainLayer)   multiple                  77138944  \n",
      "                                                                 \n",
      " final_logits_bias (BiasLaye  multiple                 63430     \n",
      " r)                                                              \n",
      "                                                                 \n",
      "=================================================================\n",
      "Total params: 77,202,374\n",
      "Trainable params: 77,138,944\n",
      "Non-trainable params: 63,430\n",
      "_________________________________________________________________\n"
     ]
    }
   ],
   "source": [
    "model.summary()"
   ],
   "metadata": {
    "collapsed": false,
    "ExecuteTime": {
     "end_time": "2023-11-03T11:41:45.523666434Z",
     "start_time": "2023-11-03T11:41:45.473461106Z"
    }
   },
   "id": "6829cfa570b0b8c7"
  },
  {
   "cell_type": "code",
   "execution_count": 146,
   "outputs": [
    {
     "data": {
      "text/plain": "{'name': 'encoder',\n 'trainable': False,\n 'dtype': 'float32',\n 'config': {'vocab_size': 63430,\n  'decoder_vocab_size': 63430,\n  'max_position_embeddings': 512,\n  'd_model': 512,\n  'encoder_ffn_dim': 2048,\n  'encoder_layers': 6,\n  'encoder_attention_heads': 8,\n  'decoder_ffn_dim': 2048,\n  'decoder_layers': 6,\n  'decoder_attention_heads': 8,\n  'dropout': 0.1,\n  'attention_dropout': 0.0,\n  'activation_dropout': 0.0,\n  'activation_function': 'swish',\n  'init_std': 0.02,\n  'encoder_layerdrop': 0.0,\n  'decoder_layerdrop': 0.0,\n  'use_cache': True,\n  'num_hidden_layers': 6,\n  'scale_embedding': True,\n  'share_encoder_decoder_embeddings': True,\n  'return_dict': True,\n  'output_hidden_states': False,\n  'output_attentions': False,\n  'torchscript': False,\n  'torch_dtype': None,\n  'use_bfloat16': False,\n  'tf_legacy_loss': False,\n  'pruned_heads': {},\n  'tie_word_embeddings': True,\n  'is_encoder_decoder': True,\n  'is_decoder': False,\n  'cross_attention_hidden_size': None,\n  'add_cross_attention': False,\n  'tie_encoder_decoder': False,\n  'max_length': 512,\n  'min_length': 0,\n  'do_sample': False,\n  'early_stopping': False,\n  'num_beams': 6,\n  'num_beam_groups': 1,\n  'diversity_penalty': 0.0,\n  'temperature': 1.0,\n  'top_k': 50,\n  'top_p': 1.0,\n  'typical_p': 1.0,\n  'repetition_penalty': 1.0,\n  'length_penalty': 1.0,\n  'no_repeat_ngram_size': 0,\n  'encoder_no_repeat_ngram_size': 0,\n  'bad_words_ids': [[63429]],\n  'num_return_sequences': 1,\n  'chunk_size_feed_forward': 0,\n  'output_scores': False,\n  'return_dict_in_generate': False,\n  'forced_bos_token_id': None,\n  'forced_eos_token_id': 0,\n  'remove_invalid_values': False,\n  'exponential_decay_length_penalty': None,\n  'suppress_tokens': None,\n  'begin_suppress_tokens': None,\n  'architectures': ['MarianMTModel'],\n  'finetuning_task': None,\n  'id2label': {0: 'LABEL_0', 1: 'LABEL_1', 2: 'LABEL_2'},\n  'label2id': {'LABEL_0': 0, 'LABEL_1': 1, 'LABEL_2': 2},\n  'tokenizer_class': None,\n  'prefix': None,\n  'bos_token_id': 0,\n  'pad_token_id': 63429,\n  'eos_token_id': 0,\n  'sep_token_id': None,\n  'decoder_start_token_id': 63429,\n  'task_specific_params': None,\n  'problem_type': None,\n  '_name_or_path': './model/model.h5',\n  'transformers_version': '4.27.4',\n  '_num_labels': 3,\n  'add_bias_logits': False,\n  'add_final_layer_norm': False,\n  'classif_dropout': 0.0,\n  'classifier_dropout': 0.0,\n  'model_type': 'marian',\n  'normalize_before': False,\n  'normalize_embedding': False,\n  'static_position_embeddings': True}}"
     },
     "execution_count": 146,
     "metadata": {},
     "output_type": "execute_result"
    }
   ],
   "source": [
    "model.model.encoder.trainable = False\n",
    "model.model.encoder.get_config()"
   ],
   "metadata": {
    "collapsed": false,
    "ExecuteTime": {
     "end_time": "2023-11-03T11:41:45.693477299Z",
     "start_time": "2023-11-03T11:41:45.681358665Z"
    }
   },
   "id": "173df6be7f15399a"
  },
  {
   "cell_type": "code",
   "execution_count": 147,
   "outputs": [
    {
     "data": {
      "text/plain": "{'name': 'decoder',\n 'trainable': True,\n 'dtype': 'float32',\n 'config': {'vocab_size': 63430,\n  'decoder_vocab_size': 63430,\n  'max_position_embeddings': 512,\n  'd_model': 512,\n  'encoder_ffn_dim': 2048,\n  'encoder_layers': 6,\n  'encoder_attention_heads': 8,\n  'decoder_ffn_dim': 2048,\n  'decoder_layers': 6,\n  'decoder_attention_heads': 8,\n  'dropout': 0.1,\n  'attention_dropout': 0.0,\n  'activation_dropout': 0.0,\n  'activation_function': 'swish',\n  'init_std': 0.02,\n  'encoder_layerdrop': 0.0,\n  'decoder_layerdrop': 0.0,\n  'use_cache': True,\n  'num_hidden_layers': 6,\n  'scale_embedding': True,\n  'share_encoder_decoder_embeddings': True,\n  'return_dict': True,\n  'output_hidden_states': False,\n  'output_attentions': False,\n  'torchscript': False,\n  'torch_dtype': None,\n  'use_bfloat16': False,\n  'tf_legacy_loss': False,\n  'pruned_heads': {},\n  'tie_word_embeddings': True,\n  'is_encoder_decoder': True,\n  'is_decoder': False,\n  'cross_attention_hidden_size': None,\n  'add_cross_attention': False,\n  'tie_encoder_decoder': False,\n  'max_length': 512,\n  'min_length': 0,\n  'do_sample': False,\n  'early_stopping': False,\n  'num_beams': 6,\n  'num_beam_groups': 1,\n  'diversity_penalty': 0.0,\n  'temperature': 1.0,\n  'top_k': 50,\n  'top_p': 1.0,\n  'typical_p': 1.0,\n  'repetition_penalty': 1.0,\n  'length_penalty': 1.0,\n  'no_repeat_ngram_size': 0,\n  'encoder_no_repeat_ngram_size': 0,\n  'bad_words_ids': [[63429]],\n  'num_return_sequences': 1,\n  'chunk_size_feed_forward': 0,\n  'output_scores': False,\n  'return_dict_in_generate': False,\n  'forced_bos_token_id': None,\n  'forced_eos_token_id': 0,\n  'remove_invalid_values': False,\n  'exponential_decay_length_penalty': None,\n  'suppress_tokens': None,\n  'begin_suppress_tokens': None,\n  'architectures': ['MarianMTModel'],\n  'finetuning_task': None,\n  'id2label': {0: 'LABEL_0', 1: 'LABEL_1', 2: 'LABEL_2'},\n  'label2id': {'LABEL_0': 0, 'LABEL_1': 1, 'LABEL_2': 2},\n  'tokenizer_class': None,\n  'prefix': None,\n  'bos_token_id': 0,\n  'pad_token_id': 63429,\n  'eos_token_id': 0,\n  'sep_token_id': None,\n  'decoder_start_token_id': 63429,\n  'task_specific_params': None,\n  'problem_type': None,\n  '_name_or_path': './model/model.h5',\n  'transformers_version': '4.27.4',\n  '_num_labels': 3,\n  'add_bias_logits': False,\n  'add_final_layer_norm': False,\n  'classif_dropout': 0.0,\n  'classifier_dropout': 0.0,\n  'model_type': 'marian',\n  'normalize_before': False,\n  'normalize_embedding': False,\n  'static_position_embeddings': True}}"
     },
     "execution_count": 147,
     "metadata": {},
     "output_type": "execute_result"
    }
   ],
   "source": [
    "model.model.decoder.get_config()"
   ],
   "metadata": {
    "collapsed": false,
    "ExecuteTime": {
     "end_time": "2023-11-03T11:41:46.416338952Z",
     "start_time": "2023-11-03T11:41:46.403281252Z"
    }
   },
   "id": "b1a2535857070e09"
  },
  {
   "cell_type": "code",
   "execution_count": 148,
   "outputs": [
    {
     "name": "stdout",
     "output_type": "stream",
     "text": [
      "Model: \"tf_marian_mt_model_2\"\n",
      "_________________________________________________________________\n",
      " Layer (type)                Output Shape              Param #   \n",
      "=================================================================\n",
      " model (TFMarianMainLayer)   multiple                  77138944  \n",
      "                                                                 \n",
      " final_logits_bias (BiasLaye  multiple                 63430     \n",
      " r)                                                              \n",
      "                                                                 \n",
      "=================================================================\n",
      "Total params: 77,202,374\n",
      "Trainable params: 25,486,336\n",
      "Non-trainable params: 51,716,038\n",
      "_________________________________________________________________\n"
     ]
    }
   ],
   "source": [
    "model.summary()"
   ],
   "metadata": {
    "collapsed": false,
    "ExecuteTime": {
     "end_time": "2023-11-03T11:41:47.446791462Z",
     "start_time": "2023-11-03T11:41:47.174119376Z"
    }
   },
   "id": "3b0b3269120f6c69"
  },
  {
   "cell_type": "code",
   "execution_count": 149,
   "outputs": [
    {
     "name": "stderr",
     "output_type": "stream",
     "text": [
      "No loss specified in compile() - the model's internal loss computation will be used as the loss. Don't panic - this is a common way to train TensorFlow models in Transformers! To disable this behaviour please pass a loss argument, or explicitly pass `loss=None` if you do not want your model to compute a loss.\n"
     ]
    }
   ],
   "source": [
    "optimizer = keras.optimizers.Adam(learning_rate=0.00005)\n",
    "model.compile(optimizer=optimizer, metrics=[\"accuracy\"])"
   ],
   "metadata": {
    "collapsed": false,
    "ExecuteTime": {
     "end_time": "2023-11-03T11:41:47.721287311Z",
     "start_time": "2023-11-03T11:41:47.655631187Z"
    }
   },
   "id": "b6db2b883e135084"
  },
  {
   "cell_type": "markdown",
   "source": [
    "### Initialize neptune"
   ],
   "metadata": {
    "collapsed": false
   },
   "id": "a4023074d4d0c994"
  },
  {
   "cell_type": "code",
   "execution_count": 79,
   "outputs": [
    {
     "name": "stderr",
     "output_type": "stream",
     "text": [
      "/tmp/ipykernel_1536/958332974.py:1: NeptuneWarning: The following monitoring options are disabled by default in interactive sessions: 'capture_stdout', 'capture_stderr', 'capture_traceback', and 'capture_hardware_metrics'. To enable them, set each parameter to 'True' when initializing the run. The monitoring will continue until you call run.stop() or the kernel stops. Also note: Your source files can only be tracked if you pass the path(s) to the 'source_code' argument. For help, see the Neptune docs: https://docs.neptune.ai/logging/source_code/\n",
      "  run = neptune.init_run(\n"
     ]
    },
    {
     "ename": "CannotResolveHostname",
     "evalue": "\n\u001B[95m\n----CannotResolveHostname-----------------------------------------------------------------------\n\u001B[0m\nThe Neptune client library was not able to resolve hostname \u001B[4mapp.neptune.ai\u001B[0m.\n\nWhat should I do?\n    - Check if your computer is connected to the internet.\n    - Check if your computer is supposed to be using a proxy to access the internet.\n      If so, you may want to use the \u001B[96mproxies\u001B[0m parameter of the \u001B[96minit_run()\u001B[0m function.\n      See https://docs.neptune.ai/api/universal/#proxies\n      and https://requests.readthedocs.io/en/latest/user/advanced/#proxies\n    - Check the status of Neptune services: https://status.neptune.ai/\n\n\u001B[92mNeed help?\u001B[0m-> https://docs.neptune.ai/getting_help\n",
     "output_type": "error",
     "traceback": [
      "\u001B[0;31m---------------------------------------------------------------------------\u001B[0m",
      "\u001B[0;31mgaierror\u001B[0m                                  Traceback (most recent call last)",
      "File \u001B[0;32m/opt/conda/lib/python3.11/site-packages/neptune/internal/backends/utils.py:93\u001B[0m, in \u001B[0;36mverify_host_resolution\u001B[0;34m(url)\u001B[0m\n\u001B[1;32m     92\u001B[0m \u001B[38;5;28;01mtry\u001B[39;00m:\n\u001B[0;32m---> 93\u001B[0m     \u001B[43msocket\u001B[49m\u001B[38;5;241;43m.\u001B[39;49m\u001B[43mgethostbyname\u001B[49m\u001B[43m(\u001B[49m\u001B[43mhost\u001B[49m\u001B[43m)\u001B[49m\n\u001B[1;32m     94\u001B[0m \u001B[38;5;28;01mexcept\u001B[39;00m socket\u001B[38;5;241m.\u001B[39mgaierror:\n",
      "\u001B[0;31mgaierror\u001B[0m: [Errno -3] Temporary failure in name resolution",
      "\nDuring handling of the above exception, another exception occurred:\n",
      "\u001B[0;31mCannotResolveHostname\u001B[0m                     Traceback (most recent call last)",
      "Cell \u001B[0;32mIn[79], line 1\u001B[0m\n\u001B[0;32m----> 1\u001B[0m run \u001B[38;5;241m=\u001B[39m \u001B[43mneptune\u001B[49m\u001B[38;5;241;43m.\u001B[39;49m\u001B[43minit_run\u001B[49m\u001B[43m(\u001B[49m\n\u001B[1;32m      2\u001B[0m \u001B[43m    \u001B[49m\u001B[43mproject\u001B[49m\u001B[38;5;241;43m=\u001B[39;49m\u001B[38;5;124;43m\"\u001B[39;49m\u001B[38;5;124;43mkacperurban/pl-mig-translation\u001B[39;49m\u001B[38;5;124;43m\"\u001B[39;49m\u001B[43m,\u001B[49m\n\u001B[1;32m      3\u001B[0m \u001B[43m    \u001B[49m\u001B[43mapi_token\u001B[49m\u001B[38;5;241;43m=\u001B[39;49m\u001B[38;5;124;43m\"\u001B[39;49m\u001B[38;5;124;43meyJhcGlfYWRkcmVzcyI6Imh0dHBzOi8vYXBwLm5lcHR1bmUuYWkiLCJhcGlfdXJsIjoiaHR0cHM6Ly9hcHAubmVwdHVuZS5haSIsImFwaV9rZXkiOiI3MTRhNjcwNy1iMzc2LTQwNTUtOGRjYy03ODI4OGQzNjkxNTEifQ==\u001B[39;49m\u001B[38;5;124;43m\"\u001B[39;49m\u001B[43m,\u001B[49m\n\u001B[1;32m      4\u001B[0m \u001B[43m    \u001B[49m\u001B[43mtags\u001B[49m\u001B[38;5;241;43m=\u001B[39;49m\u001B[38;5;124;43m'\u001B[39;49m\u001B[38;5;124;43mtest\u001B[39;49m\u001B[38;5;124;43m'\u001B[39;49m\u001B[43m,\u001B[49m\n\u001B[1;32m      5\u001B[0m \u001B[43m)\u001B[49m\n\u001B[1;32m      7\u001B[0m neptune_callback \u001B[38;5;241m=\u001B[39m NeptuneCallback(run\u001B[38;5;241m=\u001B[39mrun)\n",
      "File \u001B[0;32m/opt/conda/lib/python3.11/site-packages/neptune/metadata_containers/run.py:411\u001B[0m, in \u001B[0;36mRun.__init__\u001B[0;34m(self, with_id, project, api_token, custom_run_id, mode, name, description, tags, source_files, capture_stdout, capture_stderr, capture_hardware_metrics, fail_on_exception, monitoring_namespace, flush_period, proxies, capture_traceback, git_ref, dependencies, async_lag_callback, async_lag_threshold, async_no_progress_callback, async_no_progress_threshold, **kwargs)\u001B[0m\n\u001B[1;32m    408\u001B[0m \u001B[38;5;28;01mif\u001B[39;00m mode \u001B[38;5;241m==\u001B[39m Mode\u001B[38;5;241m.\u001B[39mOFFLINE \u001B[38;5;129;01mor\u001B[39;00m mode \u001B[38;5;241m==\u001B[39m Mode\u001B[38;5;241m.\u001B[39mDEBUG:\n\u001B[1;32m    409\u001B[0m     project \u001B[38;5;241m=\u001B[39m OFFLINE_PROJECT_QUALIFIED_NAME\n\u001B[0;32m--> 411\u001B[0m \u001B[38;5;28;43msuper\u001B[39;49m\u001B[43m(\u001B[49m\u001B[43m)\u001B[49m\u001B[38;5;241;43m.\u001B[39;49m\u001B[38;5;21;43m__init__\u001B[39;49m\u001B[43m(\u001B[49m\n\u001B[1;32m    412\u001B[0m \u001B[43m    \u001B[49m\u001B[43mproject\u001B[49m\u001B[38;5;241;43m=\u001B[39;49m\u001B[43mproject\u001B[49m\u001B[43m,\u001B[49m\n\u001B[1;32m    413\u001B[0m \u001B[43m    \u001B[49m\u001B[43mapi_token\u001B[49m\u001B[38;5;241;43m=\u001B[39;49m\u001B[43mapi_token\u001B[49m\u001B[43m,\u001B[49m\n\u001B[1;32m    414\u001B[0m \u001B[43m    \u001B[49m\u001B[43mmode\u001B[49m\u001B[38;5;241;43m=\u001B[39;49m\u001B[43mmode\u001B[49m\u001B[43m,\u001B[49m\n\u001B[1;32m    415\u001B[0m \u001B[43m    \u001B[49m\u001B[43mflush_period\u001B[49m\u001B[38;5;241;43m=\u001B[39;49m\u001B[43mflush_period\u001B[49m\u001B[43m,\u001B[49m\n\u001B[1;32m    416\u001B[0m \u001B[43m    \u001B[49m\u001B[43mproxies\u001B[49m\u001B[38;5;241;43m=\u001B[39;49m\u001B[43mproxies\u001B[49m\u001B[43m,\u001B[49m\n\u001B[1;32m    417\u001B[0m \u001B[43m    \u001B[49m\u001B[43masync_lag_callback\u001B[49m\u001B[38;5;241;43m=\u001B[39;49m\u001B[43masync_lag_callback\u001B[49m\u001B[43m,\u001B[49m\n\u001B[1;32m    418\u001B[0m \u001B[43m    \u001B[49m\u001B[43masync_lag_threshold\u001B[49m\u001B[38;5;241;43m=\u001B[39;49m\u001B[43masync_lag_threshold\u001B[49m\u001B[43m,\u001B[49m\n\u001B[1;32m    419\u001B[0m \u001B[43m    \u001B[49m\u001B[43masync_no_progress_callback\u001B[49m\u001B[38;5;241;43m=\u001B[39;49m\u001B[43masync_no_progress_callback\u001B[49m\u001B[43m,\u001B[49m\n\u001B[1;32m    420\u001B[0m \u001B[43m    \u001B[49m\u001B[43masync_no_progress_threshold\u001B[49m\u001B[38;5;241;43m=\u001B[39;49m\u001B[43masync_no_progress_threshold\u001B[49m\u001B[43m,\u001B[49m\n\u001B[1;32m    421\u001B[0m \u001B[43m\u001B[49m\u001B[43m)\u001B[49m\n",
      "File \u001B[0;32m/opt/conda/lib/python3.11/site-packages/neptune/metadata_containers/metadata_container.py:144\u001B[0m, in \u001B[0;36mMetadataContainer.__init__\u001B[0;34m(self, project, api_token, mode, flush_period, proxies, async_lag_callback, async_lag_threshold, async_no_progress_callback, async_no_progress_threshold)\u001B[0m\n\u001B[1;32m    141\u001B[0m \u001B[38;5;28mself\u001B[39m\u001B[38;5;241m.\u001B[39m_forking_state: \u001B[38;5;28mbool\u001B[39m \u001B[38;5;241m=\u001B[39m \u001B[38;5;28;01mFalse\u001B[39;00m\n\u001B[1;32m    142\u001B[0m \u001B[38;5;28mself\u001B[39m\u001B[38;5;241m.\u001B[39m_state: ContainerState \u001B[38;5;241m=\u001B[39m ContainerState\u001B[38;5;241m.\u001B[39mCREATED\n\u001B[0;32m--> 144\u001B[0m \u001B[38;5;28mself\u001B[39m\u001B[38;5;241m.\u001B[39m_backend: NeptuneBackend \u001B[38;5;241m=\u001B[39m \u001B[43mget_backend\u001B[49m\u001B[43m(\u001B[49m\u001B[43mmode\u001B[49m\u001B[38;5;241;43m=\u001B[39;49m\u001B[43mmode\u001B[49m\u001B[43m,\u001B[49m\u001B[43m \u001B[49m\u001B[43mapi_token\u001B[49m\u001B[38;5;241;43m=\u001B[39;49m\u001B[43mapi_token\u001B[49m\u001B[43m,\u001B[49m\u001B[43m \u001B[49m\u001B[43mproxies\u001B[49m\u001B[38;5;241;43m=\u001B[39;49m\u001B[43mproxies\u001B[49m\u001B[43m)\u001B[49m\n\u001B[1;32m    146\u001B[0m \u001B[38;5;28mself\u001B[39m\u001B[38;5;241m.\u001B[39m_project_qualified_name: Optional[\u001B[38;5;28mstr\u001B[39m] \u001B[38;5;241m=\u001B[39m conform_optional(project, QualifiedName)\n\u001B[1;32m    147\u001B[0m \u001B[38;5;28mself\u001B[39m\u001B[38;5;241m.\u001B[39m_project_api_object: Project \u001B[38;5;241m=\u001B[39m project_name_lookup(\n\u001B[1;32m    148\u001B[0m     backend\u001B[38;5;241m=\u001B[39m\u001B[38;5;28mself\u001B[39m\u001B[38;5;241m.\u001B[39m_backend, name\u001B[38;5;241m=\u001B[39m\u001B[38;5;28mself\u001B[39m\u001B[38;5;241m.\u001B[39m_project_qualified_name\n\u001B[1;32m    149\u001B[0m )\n",
      "File \u001B[0;32m/opt/conda/lib/python3.11/site-packages/neptune/internal/backends/factory.py:31\u001B[0m, in \u001B[0;36mget_backend\u001B[0;34m(mode, api_token, proxies)\u001B[0m\n\u001B[1;32m     29\u001B[0m \u001B[38;5;28;01mdef\u001B[39;00m \u001B[38;5;21mget_backend\u001B[39m(mode: Mode, api_token: Optional[\u001B[38;5;28mstr\u001B[39m] \u001B[38;5;241m=\u001B[39m \u001B[38;5;28;01mNone\u001B[39;00m, proxies: Optional[\u001B[38;5;28mdict\u001B[39m] \u001B[38;5;241m=\u001B[39m \u001B[38;5;28;01mNone\u001B[39;00m) \u001B[38;5;241m-\u001B[39m\u001B[38;5;241m>\u001B[39m NeptuneBackend:\n\u001B[1;32m     30\u001B[0m     \u001B[38;5;28;01mif\u001B[39;00m mode \u001B[38;5;241m==\u001B[39m Mode\u001B[38;5;241m.\u001B[39mASYNC:\n\u001B[0;32m---> 31\u001B[0m         \u001B[38;5;28;01mreturn\u001B[39;00m \u001B[43mHostedNeptuneBackend\u001B[49m\u001B[43m(\u001B[49m\u001B[43mcredentials\u001B[49m\u001B[38;5;241;43m=\u001B[39;49m\u001B[43mCredentials\u001B[49m\u001B[38;5;241;43m.\u001B[39;49m\u001B[43mfrom_token\u001B[49m\u001B[43m(\u001B[49m\u001B[43mapi_token\u001B[49m\u001B[38;5;241;43m=\u001B[39;49m\u001B[43mapi_token\u001B[49m\u001B[43m)\u001B[49m\u001B[43m,\u001B[49m\u001B[43m \u001B[49m\u001B[43mproxies\u001B[49m\u001B[38;5;241;43m=\u001B[39;49m\u001B[43mproxies\u001B[49m\u001B[43m)\u001B[49m\n\u001B[1;32m     32\u001B[0m     \u001B[38;5;28;01melif\u001B[39;00m mode \u001B[38;5;241m==\u001B[39m Mode\u001B[38;5;241m.\u001B[39mSYNC:\n\u001B[1;32m     33\u001B[0m         \u001B[38;5;28;01mreturn\u001B[39;00m HostedNeptuneBackend(credentials\u001B[38;5;241m=\u001B[39mCredentials\u001B[38;5;241m.\u001B[39mfrom_token(api_token\u001B[38;5;241m=\u001B[39mapi_token), proxies\u001B[38;5;241m=\u001B[39mproxies)\n",
      "File \u001B[0;32m/opt/conda/lib/python3.11/site-packages/neptune/internal/backends/hosted_neptune_backend.py:159\u001B[0m, in \u001B[0;36mHostedNeptuneBackend.__init__\u001B[0;34m(self, credentials, proxies)\u001B[0m\n\u001B[1;32m    156\u001B[0m \u001B[38;5;28mself\u001B[39m\u001B[38;5;241m.\u001B[39mproxies \u001B[38;5;241m=\u001B[39m proxies\n\u001B[1;32m    157\u001B[0m \u001B[38;5;28mself\u001B[39m\u001B[38;5;241m.\u001B[39mmissing_features \u001B[38;5;241m=\u001B[39m []\n\u001B[0;32m--> 159\u001B[0m \u001B[38;5;28mself\u001B[39m\u001B[38;5;241m.\u001B[39m_http_client, \u001B[38;5;28mself\u001B[39m\u001B[38;5;241m.\u001B[39m_client_config \u001B[38;5;241m=\u001B[39m \u001B[43mcreate_http_client_with_auth\u001B[49m\u001B[43m(\u001B[49m\n\u001B[1;32m    160\u001B[0m \u001B[43m    \u001B[49m\u001B[43mcredentials\u001B[49m\u001B[38;5;241;43m=\u001B[39;49m\u001B[43mcredentials\u001B[49m\u001B[43m,\u001B[49m\u001B[43m \u001B[49m\u001B[43mssl_verify\u001B[49m\u001B[38;5;241;43m=\u001B[39;49m\u001B[43mssl_verify\u001B[49m\u001B[43m(\u001B[49m\u001B[43m)\u001B[49m\u001B[43m,\u001B[49m\u001B[43m \u001B[49m\u001B[43mproxies\u001B[49m\u001B[38;5;241;43m=\u001B[39;49m\u001B[43mproxies\u001B[49m\n\u001B[1;32m    161\u001B[0m \u001B[43m\u001B[49m\u001B[43m)\u001B[49m  \u001B[38;5;66;03m# type: (RequestsClient, ClientConfig)\u001B[39;00m\n\u001B[1;32m    163\u001B[0m \u001B[38;5;28mself\u001B[39m\u001B[38;5;241m.\u001B[39mbackend_client \u001B[38;5;241m=\u001B[39m create_backend_client(\u001B[38;5;28mself\u001B[39m\u001B[38;5;241m.\u001B[39m_client_config, \u001B[38;5;28mself\u001B[39m\u001B[38;5;241m.\u001B[39m_http_client)\n\u001B[1;32m    164\u001B[0m \u001B[38;5;28mself\u001B[39m\u001B[38;5;241m.\u001B[39mleaderboard_client \u001B[38;5;241m=\u001B[39m create_leaderboard_client(\u001B[38;5;28mself\u001B[39m\u001B[38;5;241m.\u001B[39m_client_config, \u001B[38;5;28mself\u001B[39m\u001B[38;5;241m.\u001B[39m_http_client)\n",
      "File \u001B[0;32m/opt/conda/lib/python3.11/site-packages/neptune/internal/backends/utils.py:228\u001B[0m, in \u001B[0;36mcache.<locals>.wrapper\u001B[0;34m(*args, **kwargs)\u001B[0m\n\u001B[1;32m    226\u001B[0m args \u001B[38;5;241m=\u001B[39m \u001B[38;5;28mtuple\u001B[39m([HDict(arg) \u001B[38;5;28;01mif\u001B[39;00m \u001B[38;5;28misinstance\u001B[39m(arg, \u001B[38;5;28mdict\u001B[39m) \u001B[38;5;28;01melse\u001B[39;00m arg \u001B[38;5;28;01mfor\u001B[39;00m arg \u001B[38;5;129;01min\u001B[39;00m args])\n\u001B[1;32m    227\u001B[0m kwargs \u001B[38;5;241m=\u001B[39m {k: HDict(v) \u001B[38;5;28;01mif\u001B[39;00m \u001B[38;5;28misinstance\u001B[39m(v, \u001B[38;5;28mdict\u001B[39m) \u001B[38;5;28;01melse\u001B[39;00m v \u001B[38;5;28;01mfor\u001B[39;00m k, v \u001B[38;5;129;01min\u001B[39;00m kwargs\u001B[38;5;241m.\u001B[39mitems()}\n\u001B[0;32m--> 228\u001B[0m \u001B[38;5;28;01mreturn\u001B[39;00m \u001B[43mfunc\u001B[49m\u001B[43m(\u001B[49m\u001B[38;5;241;43m*\u001B[39;49m\u001B[43margs\u001B[49m\u001B[43m,\u001B[49m\u001B[43m \u001B[49m\u001B[38;5;241;43m*\u001B[39;49m\u001B[38;5;241;43m*\u001B[39;49m\u001B[43mkwargs\u001B[49m\u001B[43m)\u001B[49m\n",
      "File \u001B[0;32m/opt/conda/lib/python3.11/site-packages/neptune/internal/backends/hosted_client.py:140\u001B[0m, in \u001B[0;36mcreate_http_client_with_auth\u001B[0;34m(credentials, ssl_verify, proxies)\u001B[0m\n\u001B[1;32m    136\u001B[0m \u001B[38;5;129m@cache\u001B[39m\n\u001B[1;32m    137\u001B[0m \u001B[38;5;28;01mdef\u001B[39;00m \u001B[38;5;21mcreate_http_client_with_auth\u001B[39m(\n\u001B[1;32m    138\u001B[0m     credentials: Credentials, ssl_verify: \u001B[38;5;28mbool\u001B[39m, proxies: Dict[\u001B[38;5;28mstr\u001B[39m, \u001B[38;5;28mstr\u001B[39m]\n\u001B[1;32m    139\u001B[0m ) \u001B[38;5;241m-\u001B[39m\u001B[38;5;241m>\u001B[39m Tuple[RequestsClient, ClientConfig]:\n\u001B[0;32m--> 140\u001B[0m     client_config \u001B[38;5;241m=\u001B[39m \u001B[43mget_client_config\u001B[49m\u001B[43m(\u001B[49m\u001B[43mcredentials\u001B[49m\u001B[38;5;241;43m=\u001B[39;49m\u001B[43mcredentials\u001B[49m\u001B[43m,\u001B[49m\u001B[43m \u001B[49m\u001B[43mssl_verify\u001B[49m\u001B[38;5;241;43m=\u001B[39;49m\u001B[43mssl_verify\u001B[49m\u001B[43m,\u001B[49m\u001B[43m \u001B[49m\u001B[43mproxies\u001B[49m\u001B[38;5;241;43m=\u001B[39;49m\u001B[43mproxies\u001B[49m\u001B[43m)\u001B[49m\n\u001B[1;32m    142\u001B[0m     config_api_url \u001B[38;5;241m=\u001B[39m credentials\u001B[38;5;241m.\u001B[39mapi_url_opt \u001B[38;5;129;01mor\u001B[39;00m credentials\u001B[38;5;241m.\u001B[39mtoken_origin_address\n\u001B[1;32m    144\u001B[0m     verify_client_version(client_config, neptune_client_version)\n",
      "File \u001B[0;32m/opt/conda/lib/python3.11/site-packages/neptune/internal/backends/utils.py:228\u001B[0m, in \u001B[0;36mcache.<locals>.wrapper\u001B[0;34m(*args, **kwargs)\u001B[0m\n\u001B[1;32m    226\u001B[0m args \u001B[38;5;241m=\u001B[39m \u001B[38;5;28mtuple\u001B[39m([HDict(arg) \u001B[38;5;28;01mif\u001B[39;00m \u001B[38;5;28misinstance\u001B[39m(arg, \u001B[38;5;28mdict\u001B[39m) \u001B[38;5;28;01melse\u001B[39;00m arg \u001B[38;5;28;01mfor\u001B[39;00m arg \u001B[38;5;129;01min\u001B[39;00m args])\n\u001B[1;32m    227\u001B[0m kwargs \u001B[38;5;241m=\u001B[39m {k: HDict(v) \u001B[38;5;28;01mif\u001B[39;00m \u001B[38;5;28misinstance\u001B[39m(v, \u001B[38;5;28mdict\u001B[39m) \u001B[38;5;28;01melse\u001B[39;00m v \u001B[38;5;28;01mfor\u001B[39;00m k, v \u001B[38;5;129;01min\u001B[39;00m kwargs\u001B[38;5;241m.\u001B[39mitems()}\n\u001B[0;32m--> 228\u001B[0m \u001B[38;5;28;01mreturn\u001B[39;00m \u001B[43mfunc\u001B[49m\u001B[43m(\u001B[49m\u001B[38;5;241;43m*\u001B[39;49m\u001B[43margs\u001B[49m\u001B[43m,\u001B[49m\u001B[43m \u001B[49m\u001B[38;5;241;43m*\u001B[39;49m\u001B[38;5;241;43m*\u001B[39;49m\u001B[43mkwargs\u001B[49m\u001B[43m)\u001B[49m\n",
      "File \u001B[0;32m/opt/conda/lib/python3.11/site-packages/neptune/common/backends/utils.py:78\u001B[0m, in \u001B[0;36mwith_api_exceptions_handler.<locals>.wrapper\u001B[0;34m(*args, **kwargs)\u001B[0m\n\u001B[1;32m     75\u001B[0m     \u001B[38;5;28;01mbreak\u001B[39;00m\n\u001B[1;32m     77\u001B[0m \u001B[38;5;28;01mtry\u001B[39;00m:\n\u001B[0;32m---> 78\u001B[0m     \u001B[38;5;28;01mreturn\u001B[39;00m \u001B[43mfunc\u001B[49m\u001B[43m(\u001B[49m\u001B[38;5;241;43m*\u001B[39;49m\u001B[43margs\u001B[49m\u001B[43m,\u001B[49m\u001B[43m \u001B[49m\u001B[38;5;241;43m*\u001B[39;49m\u001B[38;5;241;43m*\u001B[39;49m\u001B[43mkwargs\u001B[49m\u001B[43m)\u001B[49m\n\u001B[1;32m     79\u001B[0m \u001B[38;5;28;01mexcept\u001B[39;00m requests\u001B[38;5;241m.\u001B[39mexceptions\u001B[38;5;241m.\u001B[39mInvalidHeader \u001B[38;5;28;01mas\u001B[39;00m e:\n\u001B[1;32m     80\u001B[0m     \u001B[38;5;28;01mif\u001B[39;00m \u001B[38;5;124m\"\u001B[39m\u001B[38;5;124mX-Neptune-Api-Token\u001B[39m\u001B[38;5;124m\"\u001B[39m \u001B[38;5;129;01min\u001B[39;00m e\u001B[38;5;241m.\u001B[39margs[\u001B[38;5;241m0\u001B[39m]:\n",
      "File \u001B[0;32m/opt/conda/lib/python3.11/site-packages/neptune/internal/backends/hosted_client.py:118\u001B[0m, in \u001B[0;36mget_client_config\u001B[0;34m(credentials, ssl_verify, proxies)\u001B[0m\n\u001B[1;32m    115\u001B[0m \u001B[38;5;129m@cache\u001B[39m\n\u001B[1;32m    116\u001B[0m \u001B[38;5;129m@with_api_exceptions_handler\u001B[39m\n\u001B[1;32m    117\u001B[0m \u001B[38;5;28;01mdef\u001B[39;00m \u001B[38;5;21mget_client_config\u001B[39m(credentials: Credentials, ssl_verify: \u001B[38;5;28mbool\u001B[39m, proxies: Dict[\u001B[38;5;28mstr\u001B[39m, \u001B[38;5;28mstr\u001B[39m]) \u001B[38;5;241m-\u001B[39m\u001B[38;5;241m>\u001B[39m ClientConfig:\n\u001B[0;32m--> 118\u001B[0m     backend_client \u001B[38;5;241m=\u001B[39m \u001B[43m_get_token_client\u001B[49m\u001B[43m(\u001B[49m\u001B[43mcredentials\u001B[49m\u001B[38;5;241;43m=\u001B[39;49m\u001B[43mcredentials\u001B[49m\u001B[43m,\u001B[49m\u001B[43m \u001B[49m\u001B[43mssl_verify\u001B[49m\u001B[38;5;241;43m=\u001B[39;49m\u001B[43mssl_verify\u001B[49m\u001B[43m,\u001B[49m\u001B[43m \u001B[49m\u001B[43mproxies\u001B[49m\u001B[38;5;241;43m=\u001B[39;49m\u001B[43mproxies\u001B[49m\u001B[43m)\u001B[49m\n\u001B[1;32m    120\u001B[0m     config \u001B[38;5;241m=\u001B[39m (\n\u001B[1;32m    121\u001B[0m         backend_client\u001B[38;5;241m.\u001B[39mapi\u001B[38;5;241m.\u001B[39mgetClientConfig(\n\u001B[1;32m    122\u001B[0m             X_Neptune_Api_Token\u001B[38;5;241m=\u001B[39mcredentials\u001B[38;5;241m.\u001B[39mapi_token,\n\u001B[0;32m   (...)\u001B[0m\n\u001B[1;32m    127\u001B[0m         \u001B[38;5;241m.\u001B[39mresult\n\u001B[1;32m    128\u001B[0m     )\n\u001B[1;32m    130\u001B[0m     client_config \u001B[38;5;241m=\u001B[39m ClientConfig\u001B[38;5;241m.\u001B[39mfrom_api_response(config)\n",
      "File \u001B[0;32m/opt/conda/lib/python3.11/site-packages/neptune/internal/backends/utils.py:228\u001B[0m, in \u001B[0;36mcache.<locals>.wrapper\u001B[0;34m(*args, **kwargs)\u001B[0m\n\u001B[1;32m    226\u001B[0m args \u001B[38;5;241m=\u001B[39m \u001B[38;5;28mtuple\u001B[39m([HDict(arg) \u001B[38;5;28;01mif\u001B[39;00m \u001B[38;5;28misinstance\u001B[39m(arg, \u001B[38;5;28mdict\u001B[39m) \u001B[38;5;28;01melse\u001B[39;00m arg \u001B[38;5;28;01mfor\u001B[39;00m arg \u001B[38;5;129;01min\u001B[39;00m args])\n\u001B[1;32m    227\u001B[0m kwargs \u001B[38;5;241m=\u001B[39m {k: HDict(v) \u001B[38;5;28;01mif\u001B[39;00m \u001B[38;5;28misinstance\u001B[39m(v, \u001B[38;5;28mdict\u001B[39m) \u001B[38;5;28;01melse\u001B[39;00m v \u001B[38;5;28;01mfor\u001B[39;00m k, v \u001B[38;5;129;01min\u001B[39;00m kwargs\u001B[38;5;241m.\u001B[39mitems()}\n\u001B[0;32m--> 228\u001B[0m \u001B[38;5;28;01mreturn\u001B[39;00m \u001B[43mfunc\u001B[49m\u001B[43m(\u001B[49m\u001B[38;5;241;43m*\u001B[39;49m\u001B[43margs\u001B[49m\u001B[43m,\u001B[49m\u001B[43m \u001B[49m\u001B[38;5;241;43m*\u001B[39;49m\u001B[38;5;241;43m*\u001B[39;49m\u001B[43mkwargs\u001B[49m\u001B[43m)\u001B[49m\n",
      "File \u001B[0;32m/opt/conda/lib/python3.11/site-packages/neptune/internal/backends/hosted_client.py:103\u001B[0m, in \u001B[0;36m_get_token_client\u001B[0;34m(credentials, ssl_verify, proxies, endpoint_url)\u001B[0m\n\u001B[1;32m    101\u001B[0m config_api_url \u001B[38;5;241m=\u001B[39m credentials\u001B[38;5;241m.\u001B[39mapi_url_opt \u001B[38;5;129;01mor\u001B[39;00m credentials\u001B[38;5;241m.\u001B[39mtoken_origin_address\n\u001B[1;32m    102\u001B[0m \u001B[38;5;28;01mif\u001B[39;00m proxies \u001B[38;5;129;01mis\u001B[39;00m \u001B[38;5;28;01mNone\u001B[39;00m:\n\u001B[0;32m--> 103\u001B[0m     \u001B[43mverify_host_resolution\u001B[49m\u001B[43m(\u001B[49m\u001B[43mconfig_api_url\u001B[49m\u001B[43m)\u001B[49m\n\u001B[1;32m    105\u001B[0m token_http_client \u001B[38;5;241m=\u001B[39m create_http_client(ssl_verify, proxies)\n\u001B[1;32m    107\u001B[0m \u001B[38;5;28;01mreturn\u001B[39;00m SwaggerClientWrapper(\n\u001B[1;32m    108\u001B[0m     create_swagger_client(\n\u001B[1;32m    109\u001B[0m         build_operation_url(endpoint_url \u001B[38;5;129;01mor\u001B[39;00m config_api_url, BACKEND_SWAGGER_PATH),\n\u001B[1;32m    110\u001B[0m         token_http_client,\n\u001B[1;32m    111\u001B[0m     )\n\u001B[1;32m    112\u001B[0m )\n",
      "File \u001B[0;32m/opt/conda/lib/python3.11/site-packages/neptune/internal/backends/utils.py:95\u001B[0m, in \u001B[0;36mverify_host_resolution\u001B[0;34m(url)\u001B[0m\n\u001B[1;32m     93\u001B[0m     socket\u001B[38;5;241m.\u001B[39mgethostbyname(host)\n\u001B[1;32m     94\u001B[0m \u001B[38;5;28;01mexcept\u001B[39;00m socket\u001B[38;5;241m.\u001B[39mgaierror:\n\u001B[0;32m---> 95\u001B[0m     \u001B[38;5;28;01mraise\u001B[39;00m CannotResolveHostname(host)\n",
      "\u001B[0;31mCannotResolveHostname\u001B[0m: \n\u001B[95m\n----CannotResolveHostname-----------------------------------------------------------------------\n\u001B[0m\nThe Neptune client library was not able to resolve hostname \u001B[4mapp.neptune.ai\u001B[0m.\n\nWhat should I do?\n    - Check if your computer is connected to the internet.\n    - Check if your computer is supposed to be using a proxy to access the internet.\n      If so, you may want to use the \u001B[96mproxies\u001B[0m parameter of the \u001B[96minit_run()\u001B[0m function.\n      See https://docs.neptune.ai/api/universal/#proxies\n      and https://requests.readthedocs.io/en/latest/user/advanced/#proxies\n    - Check the status of Neptune services: https://status.neptune.ai/\n\n\u001B[92mNeed help?\u001B[0m-> https://docs.neptune.ai/getting_help\n"
     ]
    }
   ],
   "source": [
    "run = neptune.init_run(\n",
    "    project=\"kacperurban/pl-mig-translation\",\n",
    "    api_token=\"eyJhcGlfYWRkcmVzcyI6Imh0dHBzOi8vYXBwLm5lcHR1bmUuYWkiLCJhcGlfdXJsIjoiaHR0cHM6Ly9hcHAubmVwdHVuZS5haSIsImFwaV9rZXkiOiI3MTRhNjcwNy1iMzc2LTQwNTUtOGRjYy03ODI4OGQzNjkxNTEifQ==\",\n",
    "    tags='test',\n",
    ")\n",
    "\n",
    "neptune_callback = NeptuneCallback(run=run)"
   ],
   "metadata": {
    "collapsed": false,
    "ExecuteTime": {
     "end_time": "2023-11-03T11:05:26.568544814Z",
     "start_time": "2023-11-03T11:05:26.304308222Z"
    }
   },
   "id": "305f7ef50e6b3724"
  },
  {
   "cell_type": "markdown",
   "source": [
    "### Model training"
   ],
   "metadata": {
    "collapsed": false
   },
   "id": "1cecfdc057fb1f1e"
  },
  {
   "cell_type": "code",
   "execution_count": 150,
   "outputs": [
    {
     "name": "stdout",
     "output_type": "stream",
     "text": [
      "Epoch 1/100\n",
      "12/12 [==============================] - 34s 757ms/step - loss: 4.4985 - accuracy: 0.1717\n",
      "Epoch 2/100\n",
      "12/12 [==============================] - 9s 756ms/step - loss: 2.5521 - accuracy: 0.3197\n",
      "Epoch 3/100\n",
      "12/12 [==============================] - 9s 741ms/step - loss: 1.7055 - accuracy: 0.4070\n",
      "Epoch 4/100\n",
      "12/12 [==============================] - 9s 782ms/step - loss: 1.2921 - accuracy: 0.4210\n",
      "Epoch 5/100\n",
      "12/12 [==============================] - 9s 780ms/step - loss: 0.9515 - accuracy: 0.4612\n",
      "Epoch 6/100\n",
      "12/12 [==============================] - 9s 757ms/step - loss: 0.7156 - accuracy: 0.4956\n",
      "Epoch 7/100\n",
      "12/12 [==============================] - 9s 736ms/step - loss: 0.5819 - accuracy: 0.5568\n",
      "Epoch 8/100\n",
      "12/12 [==============================] - 9s 759ms/step - loss: 0.4594 - accuracy: 0.5385\n",
      "Epoch 9/100\n",
      "12/12 [==============================] - 9s 765ms/step - loss: 0.3914 - accuracy: 0.5217\n",
      "Epoch 10/100\n",
      "12/12 [==============================] - 9s 766ms/step - loss: 0.3104 - accuracy: 0.5259\n",
      "Epoch 11/100\n",
      "12/12 [==============================] - 9s 747ms/step - loss: 0.3070 - accuracy: 0.5709\n",
      "Epoch 12/100\n",
      "12/12 [==============================] - 9s 761ms/step - loss: 0.2788 - accuracy: 0.5602\n",
      "Epoch 13/100\n",
      "12/12 [==============================] - 10s 810ms/step - loss: 0.2520 - accuracy: 0.5362\n",
      "Epoch 14/100\n",
      "12/12 [==============================] - 9s 778ms/step - loss: 0.2149 - accuracy: 0.5774\n",
      "Epoch 15/100\n",
      "12/12 [==============================] - 10s 808ms/step - loss: 0.2087 - accuracy: 0.5409\n",
      "Epoch 16/100\n",
      "12/12 [==============================] - 10s 793ms/step - loss: 0.1991 - accuracy: 0.5491\n",
      "Epoch 17/100\n",
      "12/12 [==============================] - 10s 819ms/step - loss: 0.2195 - accuracy: 0.5303\n",
      "Epoch 18/100\n",
      "12/12 [==============================] - 9s 750ms/step - loss: 0.1965 - accuracy: 0.5843\n",
      "Epoch 19/100\n",
      "12/12 [==============================] - 10s 871ms/step - loss: 0.1928 - accuracy: 0.5548\n",
      "Epoch 20/100\n",
      "12/12 [==============================] - 10s 814ms/step - loss: 0.1778 - accuracy: 0.5393\n",
      "Epoch 21/100\n",
      "12/12 [==============================] - 10s 804ms/step - loss: 0.1818 - accuracy: 0.5523\n",
      "Epoch 22/100\n",
      "12/12 [==============================] - 10s 786ms/step - loss: 0.1745 - accuracy: 0.5803\n",
      "Epoch 23/100\n",
      "12/12 [==============================] - 10s 829ms/step - loss: 0.1765 - accuracy: 0.5804\n",
      "Epoch 24/100\n",
      "12/12 [==============================] - 10s 814ms/step - loss: 0.1709 - accuracy: 0.5562\n",
      "Epoch 25/100\n",
      "12/12 [==============================] - 9s 797ms/step - loss: 0.1683 - accuracy: 0.6231\n",
      "Epoch 26/100\n",
      "12/12 [==============================] - 10s 806ms/step - loss: 0.1673 - accuracy: 0.5636\n",
      "Epoch 27/100\n",
      "12/12 [==============================] - 11s 883ms/step - loss: 0.1659 - accuracy: 0.5411\n",
      "Epoch 28/100\n",
      "12/12 [==============================] - 10s 866ms/step - loss: 0.1472 - accuracy: 0.5878\n",
      "Epoch 29/100\n",
      "12/12 [==============================] - 10s 848ms/step - loss: 0.1453 - accuracy: 0.5682\n",
      "Epoch 30/100\n",
      "12/12 [==============================] - 10s 843ms/step - loss: 0.1615 - accuracy: 0.5564\n",
      "Epoch 31/100\n",
      "12/12 [==============================] - 11s 903ms/step - loss: 0.1535 - accuracy: 0.5718\n",
      "Epoch 32/100\n",
      "12/12 [==============================] - 11s 903ms/step - loss: 0.1617 - accuracy: 0.5478\n",
      "Epoch 33/100\n",
      "12/12 [==============================] - 11s 907ms/step - loss: 0.1546 - accuracy: 0.5538\n",
      "Epoch 34/100\n",
      "12/12 [==============================] - 11s 940ms/step - loss: 0.1596 - accuracy: 0.5526\n"
     ]
    },
    {
     "data": {
      "text/plain": "<keras.callbacks.History at 0x7f8c4e182c90>"
     },
     "execution_count": 150,
     "metadata": {},
     "output_type": "execute_result"
    }
   ],
   "source": [
    "early_stopping_callback = keras.callbacks.EarlyStopping(monitor='loss', patience=5)\n",
    "model.fit(train_dataset, epochs=100, callbacks=[early_stopping_callback])\n",
    "run.stop()"
   ],
   "metadata": {
    "collapsed": false,
    "ExecuteTime": {
     "end_time": "2023-11-03T11:47:51.794074804Z",
     "start_time": "2023-11-03T11:41:55.052404314Z"
    }
   },
   "id": "890aff221066d41d"
  },
  {
   "cell_type": "markdown",
   "source": [
    "### Translation after training"
   ],
   "metadata": {
    "collapsed": false
   },
   "id": "bfca713fbf7dbaff"
  },
  {
   "cell_type": "code",
   "execution_count": 151,
   "outputs": [],
   "source": [
    "from transformers import pipeline\n",
    "\n",
    "translator = pipeline('translation', model=model, tokenizer=tokenizer)"
   ],
   "metadata": {
    "collapsed": false,
    "ExecuteTime": {
     "end_time": "2023-11-03T11:48:05.682340407Z",
     "start_time": "2023-11-03T11:48:05.664477979Z"
    }
   },
   "id": "af67263099721c3b"
  },
  {
   "cell_type": "code",
   "execution_count": 152,
   "outputs": [
    {
     "data": {
      "text/plain": "[{'translation_text': 'witać'}]"
     },
     "execution_count": 152,
     "metadata": {},
     "output_type": "execute_result"
    }
   ],
   "source": [
    "translator('Dzien dobry.')"
   ],
   "metadata": {
    "collapsed": false,
    "ExecuteTime": {
     "end_time": "2023-11-03T11:48:10.815679323Z",
     "start_time": "2023-11-03T11:48:06.344301051Z"
    }
   },
   "id": "54dc12f5d6479898"
  },
  {
   "cell_type": "code",
   "execution_count": 153,
   "outputs": [
    {
     "data": {
      "text/plain": "[{'translation_text': 'tu zmiana dowód2'}]"
     },
     "execution_count": 153,
     "metadata": {},
     "output_type": "execute_result"
    }
   ],
   "source": [
    "translator('Chcę złożyć wniosek o wydanie dowodu osobistego.')"
   ],
   "metadata": {
    "collapsed": false,
    "ExecuteTime": {
     "end_time": "2023-11-03T11:48:14.934815796Z",
     "start_time": "2023-11-03T11:48:10.790948217Z"
    }
   },
   "id": "db743af1680e5219"
  },
  {
   "cell_type": "code",
   "execution_count": 154,
   "outputs": [
    {
     "data": {
      "text/plain": "[{'translation_text': 'być mój nowy dowód2'}]"
     },
     "execution_count": 154,
     "metadata": {},
     "output_type": "execute_result"
    }
   ],
   "source": [
    "translator('Czy mogę odebrać dowód?')"
   ],
   "metadata": {
    "collapsed": false,
    "ExecuteTime": {
     "end_time": "2023-11-03T11:48:19.355931887Z",
     "start_time": "2023-11-03T11:48:14.937001935Z"
    }
   },
   "id": "18a29736c1fc20ac"
  },
  {
   "cell_type": "code",
   "execution_count": 155,
   "outputs": [
    {
     "data": {
      "text/plain": "[{'translation_text': 'dowód1 koniec ważny'}]"
     },
     "execution_count": 155,
     "metadata": {},
     "output_type": "execute_result"
    }
   ],
   "source": [
    "translator('Upłynął termin ważności dowodu.')"
   ],
   "metadata": {
    "collapsed": false,
    "ExecuteTime": {
     "end_time": "2023-11-03T11:48:25.394915232Z",
     "start_time": "2023-11-03T11:48:19.360462213Z"
    }
   },
   "id": "4edb2bb7c593f474"
  },
  {
   "cell_type": "markdown",
   "source": [
    "## Model testing"
   ],
   "metadata": {
    "collapsed": false
   },
   "id": "be2fe9830d4a4d8"
  },
  {
   "cell_type": "code",
   "execution_count": 156,
   "outputs": [],
   "source": [
    "def prepare_label_to_bleu(raw_data):\n",
    "    hashmap = {}\n",
    "    i=0\n",
    "    while i < len(raw_data):\n",
    "        if raw_data[i+1] == '[':\n",
    "            value = raw_data[i]\n",
    "            temp_list = []\n",
    "            i += 2\n",
    "            while i < len(raw_data):\n",
    "                if raw_data[i] == ']':\n",
    "                    hashmap[value[1:]] = temp_list\n",
    "                    break\n",
    "                temp_list.append(raw_data[i])\n",
    "                i += 1\n",
    "        i += 1\n",
    "    return hashmap"
   ],
   "metadata": {
    "collapsed": false,
    "ExecuteTime": {
     "end_time": "2023-11-03T11:48:31.092122581Z",
     "start_time": "2023-11-03T11:48:31.088560709Z"
    }
   },
   "id": "26d2144142c7e336"
  },
  {
   "cell_type": "code",
   "execution_count": 166,
   "outputs": [],
   "source": [
    "def bleu_score():\n",
    "    ref_sent = prepare_label_to_bleu(raw_data)\n",
    "    translation_corpus = []\n",
    "    reference_corpus = []\n",
    "    for i in range(0, len(train_test_dataset[\"test\"][\"translation\"])):\n",
    "        value = ref_sent[train_test_dataset[\"test\"][\"translation\"][i][\"pl\"]]\n",
    "        translation = translator(train_test_dataset[\"test\"][\"translation\"][i][\"pl\"])\n",
    "        translation_corpus.append(translation[0][\"translation_text\"].split())\n",
    "        if len(value) > 1:\n",
    "            reference_corpus.append([j.split() for j in value])\n",
    "        else:\n",
    "            reference_corpus.append(value[0].split())\n",
    "    b_score = corpus_bleu(reference_corpus, translation_corpus)\n",
    "    compare_ref_trans  = pd.DataFrame({\"reference\" : reference_corpus, \"translation\" : translation_corpus})\n",
    "    return b_score, compare_ref_trans"
   ],
   "metadata": {
    "collapsed": false,
    "ExecuteTime": {
     "end_time": "2023-11-03T12:19:48.416094981Z",
     "start_time": "2023-11-03T12:19:48.401653799Z"
    }
   },
   "id": "6cbd9dfd3603590a"
  },
  {
   "cell_type": "code",
   "execution_count": 170,
   "outputs": [
    {
     "name": "stdout",
     "output_type": "stream",
     "text": [
      "BLEU score: 0.33\n"
     ]
    }
   ],
   "source": [
    "score, df_ref_trans = bleu_score()\n",
    "print(f\"BLEU score: {np.around(score, 2)}\")"
   ],
   "metadata": {
    "collapsed": false,
    "ExecuteTime": {
     "end_time": "2023-11-03T12:27:16.828681941Z",
     "start_time": "2023-11-03T12:25:25.844292943Z"
    }
   },
   "id": "16b3eb727134ff6e"
  },
  {
   "cell_type": "code",
   "execution_count": 171,
   "outputs": [
    {
     "data": {
      "text/plain": "                                            referance   \n0             [[co, pisać, mieć], [jak, pisać, mieć]]  \\\n1                    [przyjść, papier, wniosek, mieć]   \n2      [[ile, płacić, dowód1], [ile, płacić, dowód2]]   \n3   [[mój, dowód1, pękąć], [mój, dowód2, pękąć], [...   \n4      [[ile, płacić, dowód1], [ile, płacić, dowód2]]   \n5                [[dowód1, gotowy], [dowód2, gotowy]]   \n6                    [przyjść, papier, wniosek, mieć]   \n7      [[ile, płacić, dowód1], [ile, płacić, dowód2]]   \n8   [[ja, pierwszy, raz, dowód1, robić], [ja, pier...   \n9                           [[dzień, dobry], [witać]]   \n10                                              [nie]   \n11            [[co, pisać, mieć], [jak, pisać, mieć]]   \n12  [[prosić, wniosek], [prosić, wniosek, dowód1],...   \n13  [[dowód1, zgubić], [dowód2, zgubić], [zgubić, ...   \n14  [[dom, przenieść, się], [mieszkanie, zmiana1],...   \n15  [[nazwisko, zmiana1], [nazwisko, zmiana2], [pr...   \n16  [[dowód1, nieważny], [dowód2, nieważny], [dowó...   \n17                   [przyjść, papier, wniosek, mieć]   \n18                                     [do, widzenia]   \n19  [[nazwisko, zmiana1], [nazwisko, zmiana2], [pr...   \n20         [[powtarzać, prosić], [prosić, powtarzać]]   \n21  [[dowód1, odbiór, wcześniej, można], [dowód2, ...   \n22               [[dowód1, gotowy], [dowód2, gotowy]]   \n23     [[stary, dowód1, mieć], [stary, dowód2, mieć]]   \n24                         [z, powód, zmiana, wygląd]   \n\n                           translation  \n0                   [jak, pisać, mieć]  \n1                 [tu, zmiana, dowód2]  \n2          [nowy, dowód2, płacić, ile]  \n3                  [mój, dowód2, psuć]  \n4          [nowy, dowód2, płacić, ile]  \n5             [być, mój, nowy, dowód2]  \n6                 [tu, zmiana, dowód2]  \n7          [nowy, dowód2, płacić, ile]  \n8   [ja, pierwszy, raz, dowód2, robić]  \n9                              [witać]  \n10                           [niemieć]  \n11                  [jak, pisać, mieć]  \n12           [prosić, wniosek, dowód2]  \n13                    [zgubić, dowód2]  \n14               [mieszkanie, zmiana2]  \n15                 [nazwisko, zmiana2]  \n16             [dowód1, koniec, ważny]  \n17                [tu, zmiana, dowód2]  \n18                             [witać]  \n19                 [nazwisko, zmiana2]  \n20                 [powtarzać, prosić]  \n21  [dowód2, odbiór, wcześniej, można]  \n22            [być, mój, nowy, dowód2]  \n23               [stary, dowód1, mieć]  \n24             [ojcieć, imię, zmiana2]  ",
      "text/html": "<div>\n<style scoped>\n    .dataframe tbody tr th:only-of-type {\n        vertical-align: middle;\n    }\n\n    .dataframe tbody tr th {\n        vertical-align: top;\n    }\n\n    .dataframe thead th {\n        text-align: right;\n    }\n</style>\n<table border=\"1\" class=\"dataframe\">\n  <thead>\n    <tr style=\"text-align: right;\">\n      <th></th>\n      <th>referance</th>\n      <th>translation</th>\n    </tr>\n  </thead>\n  <tbody>\n    <tr>\n      <th>0</th>\n      <td>[[co, pisać, mieć], [jak, pisać, mieć]]</td>\n      <td>[jak, pisać, mieć]</td>\n    </tr>\n    <tr>\n      <th>1</th>\n      <td>[przyjść, papier, wniosek, mieć]</td>\n      <td>[tu, zmiana, dowód2]</td>\n    </tr>\n    <tr>\n      <th>2</th>\n      <td>[[ile, płacić, dowód1], [ile, płacić, dowód2]]</td>\n      <td>[nowy, dowód2, płacić, ile]</td>\n    </tr>\n    <tr>\n      <th>3</th>\n      <td>[[mój, dowód1, pękąć], [mój, dowód2, pękąć], [...</td>\n      <td>[mój, dowód2, psuć]</td>\n    </tr>\n    <tr>\n      <th>4</th>\n      <td>[[ile, płacić, dowód1], [ile, płacić, dowód2]]</td>\n      <td>[nowy, dowód2, płacić, ile]</td>\n    </tr>\n    <tr>\n      <th>5</th>\n      <td>[[dowód1, gotowy], [dowód2, gotowy]]</td>\n      <td>[być, mój, nowy, dowód2]</td>\n    </tr>\n    <tr>\n      <th>6</th>\n      <td>[przyjść, papier, wniosek, mieć]</td>\n      <td>[tu, zmiana, dowód2]</td>\n    </tr>\n    <tr>\n      <th>7</th>\n      <td>[[ile, płacić, dowód1], [ile, płacić, dowód2]]</td>\n      <td>[nowy, dowód2, płacić, ile]</td>\n    </tr>\n    <tr>\n      <th>8</th>\n      <td>[[ja, pierwszy, raz, dowód1, robić], [ja, pier...</td>\n      <td>[ja, pierwszy, raz, dowód2, robić]</td>\n    </tr>\n    <tr>\n      <th>9</th>\n      <td>[[dzień, dobry], [witać]]</td>\n      <td>[witać]</td>\n    </tr>\n    <tr>\n      <th>10</th>\n      <td>[nie]</td>\n      <td>[niemieć]</td>\n    </tr>\n    <tr>\n      <th>11</th>\n      <td>[[co, pisać, mieć], [jak, pisać, mieć]]</td>\n      <td>[jak, pisać, mieć]</td>\n    </tr>\n    <tr>\n      <th>12</th>\n      <td>[[prosić, wniosek], [prosić, wniosek, dowód1],...</td>\n      <td>[prosić, wniosek, dowód2]</td>\n    </tr>\n    <tr>\n      <th>13</th>\n      <td>[[dowód1, zgubić], [dowód2, zgubić], [zgubić, ...</td>\n      <td>[zgubić, dowód2]</td>\n    </tr>\n    <tr>\n      <th>14</th>\n      <td>[[dom, przenieść, się], [mieszkanie, zmiana1],...</td>\n      <td>[mieszkanie, zmiana2]</td>\n    </tr>\n    <tr>\n      <th>15</th>\n      <td>[[nazwisko, zmiana1], [nazwisko, zmiana2], [pr...</td>\n      <td>[nazwisko, zmiana2]</td>\n    </tr>\n    <tr>\n      <th>16</th>\n      <td>[[dowód1, nieważny], [dowód2, nieważny], [dowó...</td>\n      <td>[dowód1, koniec, ważny]</td>\n    </tr>\n    <tr>\n      <th>17</th>\n      <td>[przyjść, papier, wniosek, mieć]</td>\n      <td>[tu, zmiana, dowód2]</td>\n    </tr>\n    <tr>\n      <th>18</th>\n      <td>[do, widzenia]</td>\n      <td>[witać]</td>\n    </tr>\n    <tr>\n      <th>19</th>\n      <td>[[nazwisko, zmiana1], [nazwisko, zmiana2], [pr...</td>\n      <td>[nazwisko, zmiana2]</td>\n    </tr>\n    <tr>\n      <th>20</th>\n      <td>[[powtarzać, prosić], [prosić, powtarzać]]</td>\n      <td>[powtarzać, prosić]</td>\n    </tr>\n    <tr>\n      <th>21</th>\n      <td>[[dowód1, odbiór, wcześniej, można], [dowód2, ...</td>\n      <td>[dowód2, odbiór, wcześniej, można]</td>\n    </tr>\n    <tr>\n      <th>22</th>\n      <td>[[dowód1, gotowy], [dowód2, gotowy]]</td>\n      <td>[być, mój, nowy, dowód2]</td>\n    </tr>\n    <tr>\n      <th>23</th>\n      <td>[[stary, dowód1, mieć], [stary, dowód2, mieć]]</td>\n      <td>[stary, dowód1, mieć]</td>\n    </tr>\n    <tr>\n      <th>24</th>\n      <td>[z, powód, zmiana, wygląd]</td>\n      <td>[ojcieć, imię, zmiana2]</td>\n    </tr>\n  </tbody>\n</table>\n</div>"
     },
     "execution_count": 171,
     "metadata": {},
     "output_type": "execute_result"
    }
   ],
   "source": [
    "df_ref_trans"
   ],
   "metadata": {
    "collapsed": false,
    "ExecuteTime": {
     "end_time": "2023-11-03T12:27:16.902114357Z",
     "start_time": "2023-11-03T12:27:16.826007910Z"
    }
   },
   "id": "2c75ea7083f7ac4d"
  }
 ],
 "metadata": {
  "kernelspec": {
   "display_name": "Python 3",
   "language": "python",
   "name": "python3"
  },
  "language_info": {
   "codemirror_mode": {
    "name": "ipython",
    "version": 2
   },
   "file_extension": ".py",
   "mimetype": "text/x-python",
   "name": "python",
   "nbconvert_exporter": "python",
   "pygments_lexer": "ipython2",
   "version": "2.7.6"
  }
 },
 "nbformat": 4,
 "nbformat_minor": 5
}
